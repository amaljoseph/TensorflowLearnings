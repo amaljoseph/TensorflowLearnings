{
  "nbformat": 4,
  "nbformat_minor": 0,
  "metadata": {
    "colab": {
      "name": "Pandas.ipynb",
      "version": "0.3.2",
      "provenance": [],
      "collapsed_sections": [],
      "include_colab_link": true
    },
    "kernelspec": {
      "name": "python3",
      "display_name": "Python 3"
    }
  },
  "cells": [
    {
      "cell_type": "markdown",
      "metadata": {
        "id": "view-in-github",
        "colab_type": "text"
      },
      "source": [
        "<a href=\"https://colab.research.google.com/github/amaljoseph/TensorflowLearnings/blob/master/numpy-pandas-matplot-scikit/Pandas.ipynb\" target=\"_parent\"><img src=\"https://colab.research.google.com/assets/colab-badge.svg\" alt=\"Open In Colab\"/></a>"
      ]
    },
    {
      "metadata": {
        "id": "ghYtCz_7xLzp",
        "colab_type": "code",
        "colab": {
          "base_uri": "https://localhost:8080/",
          "height": 127
        },
        "outputId": "6fa3bf4e-942b-492c-95aa-ea5ad193facb"
      },
      "cell_type": "code",
      "source": [
        "!git clone https://github.com/amaljoseph/TensorflowLearnings"
      ],
      "execution_count": 14,
      "outputs": [
        {
          "output_type": "stream",
          "text": [
            "Cloning into 'TensorflowLearnings'...\n",
            "remote: Enumerating objects: 80, done.\u001b[K\n",
            "remote: Counting objects:   1% (1/80)   \u001b[K\rremote: Counting objects:   2% (2/80)   \u001b[K\rremote: Counting objects:   3% (3/80)   \u001b[K\rremote: Counting objects:   5% (4/80)   \u001b[K\rremote: Counting objects:   6% (5/80)   \u001b[K\rremote: Counting objects:   7% (6/80)   \u001b[K\rremote: Counting objects:   8% (7/80)   \u001b[K\rremote: Counting objects:  10% (8/80)   \u001b[K\rremote: Counting objects:  11% (9/80)   \u001b[K\rremote: Counting objects:  12% (10/80)   \u001b[K\rremote: Counting objects:  13% (11/80)   \u001b[K\rremote: Counting objects:  15% (12/80)   \u001b[K\rremote: Counting objects:  16% (13/80)   \u001b[K\rremote: Counting objects:  17% (14/80)   \u001b[K\rremote: Counting objects:  18% (15/80)   \u001b[K\rremote: Counting objects:  20% (16/80)   \u001b[K\rremote: Counting objects:  21% (17/80)   \u001b[K\rremote: Counting objects:  22% (18/80)   \u001b[K\rremote: Counting objects:  23% (19/80)   \u001b[K\rremote: Counting objects:  25% (20/80)   \u001b[K\rremote: Counting objects:  26% (21/80)   \u001b[K\rremote: Counting objects:  27% (22/80)   \u001b[K\rremote: Counting objects:  28% (23/80)   \u001b[K\rremote: Counting objects:  30% (24/80)   \u001b[K\rremote: Counting objects:  31% (25/80)   \u001b[K\rremote: Counting objects:  32% (26/80)   \u001b[K\rremote: Counting objects:  33% (27/80)   \u001b[K\rremote: Counting objects:  35% (28/80)   \u001b[K\rremote: Counting objects:  36% (29/80)   \u001b[K\rremote: Counting objects:  37% (30/80)   \u001b[K\rremote: Counting objects:  38% (31/80)   \u001b[K\rremote: Counting objects:  40% (32/80)   \u001b[K\rremote: Counting objects:  41% (33/80)   \u001b[K\rremote: Counting objects:  42% (34/80)   \u001b[K\rremote: Counting objects:  43% (35/80)   \u001b[K\rremote: Counting objects:  45% (36/80)   \u001b[K\rremote: Counting objects:  46% (37/80)   \u001b[K\rremote: Counting objects:  47% (38/80)   \u001b[K\rremote: Counting objects:  48% (39/80)   \u001b[K\rremote: Counting objects:  50% (40/80)   \u001b[K\rremote: Counting objects:  51% (41/80)   \u001b[K\rremote: Counting objects:  52% (42/80)   \u001b[K\rremote: Counting objects:  53% (43/80)   \u001b[K\rremote: Counting objects:  55% (44/80)   \u001b[K\rremote: Counting objects:  56% (45/80)   \u001b[K\rremote: Counting objects:  57% (46/80)   \u001b[K\rremote: Counting objects:  58% (47/80)   \u001b[K\rremote: Counting objects:  60% (48/80)   \u001b[K\rremote: Counting objects:  61% (49/80)   \u001b[K\rremote: Counting objects:  62% (50/80)   \u001b[K\rremote: Counting objects:  63% (51/80)   \u001b[K\rremote: Counting objects:  65% (52/80)   \u001b[K\rremote: Counting objects:  66% (53/80)   \u001b[K\rremote: Counting objects:  67% (54/80)   \u001b[K\rremote: Counting objects:  68% (55/80)   \u001b[K\rremote: Counting objects:  70% (56/80)   \u001b[K\rremote: Counting objects:  71% (57/80)   \u001b[K\rremote: Counting objects:  72% (58/80)   \u001b[K\rremote: Counting objects:  73% (59/80)   \u001b[K\rremote: Counting objects:  75% (60/80)   \u001b[K\rremote: Counting objects:  76% (61/80)   \u001b[K\rremote: Counting objects:  77% (62/80)   \u001b[K\rremote: Counting objects:  78% (63/80)   \u001b[K\rremote: Counting objects:  80% (64/80)   \u001b[K\rremote: Counting objects:  81% (65/80)   \u001b[K\rremote: Counting objects:  82% (66/80)   \u001b[K\rremote: Counting objects:  83% (67/80)   \u001b[K\rremote: Counting objects:  85% (68/80)   \u001b[K\rremote: Counting objects:  86% (69/80)   \u001b[K\rremote: Counting objects:  87% (70/80)   \u001b[K\rremote: Counting objects:  88% (71/80)   \u001b[K\rremote: Counting objects:  90% (72/80)   \u001b[K\rremote: Counting objects:  91% (73/80)   \u001b[K\rremote: Counting objects:  92% (74/80)   \u001b[K\rremote: Counting objects:  93% (75/80)   \u001b[K\rremote: Counting objects:  95% (76/80)   \u001b[K\rremote: Counting objects:  96% (77/80)   \u001b[K\rremote: Counting objects:  97% (78/80)   \u001b[K\rremote: Counting objects:  98% (79/80)   \u001b[K\rremote: Counting objects: 100% (80/80)   \u001b[K\rremote: Counting objects: 100% (80/80), done.\u001b[K\n",
            "remote: Compressing objects:   1% (1/70)   \u001b[K\rremote: Compressing objects:   2% (2/70)   \u001b[K\rremote: Compressing objects:   4% (3/70)   \u001b[K\rremote: Compressing objects:   5% (4/70)   \u001b[K\rremote: Compressing objects:   7% (5/70)   \u001b[K\rremote: Compressing objects:   8% (6/70)   \u001b[K\rremote: Compressing objects:  10% (7/70)   \u001b[K\rremote: Compressing objects:  11% (8/70)   \u001b[K\rremote: Compressing objects:  12% (9/70)   \u001b[K\rremote: Compressing objects:  14% (10/70)   \u001b[K\rremote: Compressing objects:  15% (11/70)   \u001b[K\rremote: Compressing objects:  17% (12/70)   \u001b[K\rremote: Compressing objects:  18% (13/70)   \u001b[K\rremote: Compressing objects:  20% (14/70)   \u001b[K\rremote: Compressing objects:  21% (15/70)   \u001b[K\rremote: Compressing objects:  22% (16/70)   \u001b[K\rremote: Compressing objects:  24% (17/70)   \u001b[K\rremote: Compressing objects:  25% (18/70)   \u001b[K\rremote: Compressing objects:  27% (19/70)   \u001b[K\rremote: Compressing objects:  28% (20/70)   \u001b[K\rremote: Compressing objects:  30% (21/70)   \u001b[K\rremote: Compressing objects:  31% (22/70)   \u001b[K\rremote: Compressing objects:  32% (23/70)   \u001b[K\rremote: Compressing objects:  34% (24/70)   \u001b[K\rremote: Compressing objects:  35% (25/70)   \u001b[K\rremote: Compressing objects:  37% (26/70)   \u001b[K\rremote: Compressing objects:  38% (27/70)   \u001b[K\rremote: Compressing objects:  40% (28/70)   \u001b[K\rremote: Compressing objects:  41% (29/70)   \u001b[K\rremote: Compressing objects:  42% (30/70)   \u001b[K\rremote: Compressing objects:  44% (31/70)   \u001b[K\rremote: Compressing objects:  45% (32/70)   \u001b[K\rremote: Compressing objects:  47% (33/70)   \u001b[K\rremote: Compressing objects:  48% (34/70)   \u001b[K\rremote: Compressing objects:  50% (35/70)   \u001b[K\rremote: Compressing objects:  51% (36/70)   \u001b[K\rremote: Compressing objects:  52% (37/70)   \u001b[K\rremote: Compressing objects:  54% (38/70)   \u001b[K\rremote: Compressing objects:  55% (39/70)   \u001b[K\rremote: Compressing objects:  57% (40/70)   \u001b[K\rremote: Compressing objects:  58% (41/70)   \u001b[K\rremote: Compressing objects:  60% (42/70)   \u001b[K\rremote: Compressing objects:  61% (43/70)   \u001b[K\rremote: Compressing objects:  62% (44/70)   \u001b[K\rremote: Compressing objects:  64% (45/70)   \u001b[K\rremote: Compressing objects:  65% (46/70)   \u001b[K\rremote: Compressing objects:  67% (47/70)   \u001b[K\rremote: Compressing objects:  68% (48/70)   \u001b[K\rremote: Compressing objects:  70% (49/70)   \u001b[K\rremote: Compressing objects:  71% (50/70)   \u001b[K\rremote: Compressing objects:  72% (51/70)   \u001b[K\rremote: Compressing objects:  74% (52/70)   \u001b[K\rremote: Compressing objects:  75% (53/70)   \u001b[K\rremote: Compressing objects:  77% (54/70)   \u001b[K\rremote: Compressing objects:  78% (55/70)   \u001b[K\rremote: Compressing objects:  80% (56/70)   \u001b[K\rremote: Compressing objects:  81% (57/70)   \u001b[K\rremote: Compressing objects:  82% (58/70)   \u001b[K\rremote: Compressing objects:  84% (59/70)   \u001b[K\rremote: Compressing objects:  85% (60/70)   \u001b[K\rremote: Compressing objects:  87% (61/70)   \u001b[K\rremote: Compressing objects:  88% (62/70)   \u001b[K\rremote: Compressing objects:  90% (63/70)   \u001b[K\rremote: Compressing objects:  91% (64/70)   \u001b[K\rremote: Compressing objects:  92% (65/70)   \u001b[K\rremote: Compressing objects:  94% (66/70)   \u001b[K\rremote: Compressing objects:  95% (67/70)   \u001b[K\rremote: Compressing objects:  97% (68/70)   \u001b[K\rremote: Compressing objects:  98% (69/70)   \u001b[K\rremote: Compressing objects: 100% (70/70)   \u001b[K\rremote: Compressing objects: 100% (70/70), done.\u001b[K\n",
            "Unpacking objects:   1% (1/80)   \rUnpacking objects:   2% (2/80)   \rUnpacking objects:   3% (3/80)   \rUnpacking objects:   5% (4/80)   \rUnpacking objects:   6% (5/80)   \rUnpacking objects:   7% (6/80)   \rUnpacking objects:   8% (7/80)   \rUnpacking objects:  10% (8/80)   \rUnpacking objects:  11% (9/80)   \rUnpacking objects:  12% (10/80)   \rUnpacking objects:  13% (11/80)   \rUnpacking objects:  15% (12/80)   \rUnpacking objects:  16% (13/80)   \rUnpacking objects:  17% (14/80)   \rUnpacking objects:  18% (15/80)   \rUnpacking objects:  20% (16/80)   \rUnpacking objects:  21% (17/80)   \rUnpacking objects:  22% (18/80)   \rUnpacking objects:  23% (19/80)   \rUnpacking objects:  25% (20/80)   \rUnpacking objects:  26% (21/80)   \rUnpacking objects:  27% (22/80)   \rUnpacking objects:  28% (23/80)   \rUnpacking objects:  30% (24/80)   \rUnpacking objects:  31% (25/80)   \rUnpacking objects:  32% (26/80)   \rUnpacking objects:  33% (27/80)   \rUnpacking objects:  35% (28/80)   \rUnpacking objects:  36% (29/80)   \rUnpacking objects:  37% (30/80)   \rUnpacking objects:  38% (31/80)   \rUnpacking objects:  40% (32/80)   \rUnpacking objects:  41% (33/80)   \rUnpacking objects:  42% (34/80)   \rUnpacking objects:  43% (35/80)   \rUnpacking objects:  45% (36/80)   \rUnpacking objects:  46% (37/80)   \rUnpacking objects:  47% (38/80)   \rUnpacking objects:  48% (39/80)   \rUnpacking objects:  50% (40/80)   \rUnpacking objects:  51% (41/80)   \rUnpacking objects:  52% (42/80)   \rUnpacking objects:  53% (43/80)   \rremote: Total 80 (delta 28), reused 0 (delta 0), pack-reused 0\u001b[K\n",
            "Unpacking objects:  55% (44/80)   \rUnpacking objects:  56% (45/80)   \rUnpacking objects:  57% (46/80)   \rUnpacking objects:  58% (47/80)   \rUnpacking objects:  60% (48/80)   \rUnpacking objects:  61% (49/80)   \rUnpacking objects:  62% (50/80)   \rUnpacking objects:  63% (51/80)   \rUnpacking objects:  65% (52/80)   \rUnpacking objects:  66% (53/80)   \rUnpacking objects:  67% (54/80)   \rUnpacking objects:  68% (55/80)   \rUnpacking objects:  70% (56/80)   \rUnpacking objects:  71% (57/80)   \rUnpacking objects:  72% (58/80)   \rUnpacking objects:  73% (59/80)   \rUnpacking objects:  75% (60/80)   \rUnpacking objects:  76% (61/80)   \rUnpacking objects:  77% (62/80)   \rUnpacking objects:  78% (63/80)   \rUnpacking objects:  80% (64/80)   \rUnpacking objects:  81% (65/80)   \rUnpacking objects:  82% (66/80)   \rUnpacking objects:  83% (67/80)   \rUnpacking objects:  85% (68/80)   \rUnpacking objects:  86% (69/80)   \rUnpacking objects:  87% (70/80)   \rUnpacking objects:  88% (71/80)   \rUnpacking objects:  90% (72/80)   \rUnpacking objects:  91% (73/80)   \rUnpacking objects:  92% (74/80)   \rUnpacking objects:  93% (75/80)   \rUnpacking objects:  95% (76/80)   \rUnpacking objects:  96% (77/80)   \rUnpacking objects:  97% (78/80)   \rUnpacking objects:  98% (79/80)   \rUnpacking objects: 100% (80/80)   \rUnpacking objects: 100% (80/80), done.\n"
          ],
          "name": "stdout"
        }
      ]
    },
    {
      "metadata": {
        "id": "AH0zdPG8xQTq",
        "colab_type": "code",
        "colab": {}
      },
      "cell_type": "code",
      "source": [
        "import pandas as pd"
      ],
      "execution_count": 0,
      "outputs": []
    },
    {
      "metadata": {
        "id": "GE64PBnvxTJq",
        "colab_type": "code",
        "colab": {}
      },
      "cell_type": "code",
      "source": [
        "df = pd.read_csv('TensorflowLearnings/udemy-datasets/salaries.csv')"
      ],
      "execution_count": 0,
      "outputs": []
    },
    {
      "metadata": {
        "id": "CRQDx3xry0Cd",
        "colab_type": "code",
        "colab": {
          "base_uri": "https://localhost:8080/",
          "height": 143
        },
        "outputId": "e823e1cf-fdbe-4bda-b340-93e51ce8f7ad"
      },
      "cell_type": "code",
      "source": [
        "df"
      ],
      "execution_count": 41,
      "outputs": [
        {
          "output_type": "execute_result",
          "data": {
            "text/html": [
              "<div>\n",
              "<style scoped>\n",
              "    .dataframe tbody tr th:only-of-type {\n",
              "        vertical-align: middle;\n",
              "    }\n",
              "\n",
              "    .dataframe tbody tr th {\n",
              "        vertical-align: top;\n",
              "    }\n",
              "\n",
              "    .dataframe thead th {\n",
              "        text-align: right;\n",
              "    }\n",
              "</style>\n",
              "<table border=\"1\" class=\"dataframe\">\n",
              "  <thead>\n",
              "    <tr style=\"text-align: right;\">\n",
              "      <th></th>\n",
              "      <th>Name</th>\n",
              "      <th>Salary</th>\n",
              "      <th>Age</th>\n",
              "    </tr>\n",
              "  </thead>\n",
              "  <tbody>\n",
              "    <tr>\n",
              "      <th>0</th>\n",
              "      <td>John</td>\n",
              "      <td>50000</td>\n",
              "      <td>34</td>\n",
              "    </tr>\n",
              "    <tr>\n",
              "      <th>1</th>\n",
              "      <td>Sally</td>\n",
              "      <td>120000</td>\n",
              "      <td>45</td>\n",
              "    </tr>\n",
              "    <tr>\n",
              "      <th>2</th>\n",
              "      <td>Alyssa</td>\n",
              "      <td>80000</td>\n",
              "      <td>27</td>\n",
              "    </tr>\n",
              "  </tbody>\n",
              "</table>\n",
              "</div>"
            ],
            "text/plain": [
              "     Name  Salary  Age\n",
              "0    John   50000   34\n",
              "1   Sally  120000   45\n",
              "2  Alyssa   80000   27"
            ]
          },
          "metadata": {
            "tags": []
          },
          "execution_count": 41
        }
      ]
    },
    {
      "metadata": {
        "id": "ltKO6jBOzDYB",
        "colab_type": "code",
        "colab": {
          "base_uri": "https://localhost:8080/",
          "height": 90
        },
        "outputId": "0154e3c2-4ca4-4aa0-b04e-67e3850a0c19"
      },
      "cell_type": "code",
      "source": [
        "df['Salary']"
      ],
      "execution_count": 42,
      "outputs": [
        {
          "output_type": "execute_result",
          "data": {
            "text/plain": [
              "0     50000\n",
              "1    120000\n",
              "2     80000\n",
              "Name: Salary, dtype: int64"
            ]
          },
          "metadata": {
            "tags": []
          },
          "execution_count": 42
        }
      ]
    },
    {
      "metadata": {
        "id": "SJBkgu2ozHjw",
        "colab_type": "code",
        "colab": {
          "base_uri": "https://localhost:8080/",
          "height": 143
        },
        "outputId": "8b1776f8-719f-41ca-e25e-90b9b45c812b"
      },
      "cell_type": "code",
      "source": [
        "df[['Salary', 'Name']]"
      ],
      "execution_count": 43,
      "outputs": [
        {
          "output_type": "execute_result",
          "data": {
            "text/html": [
              "<div>\n",
              "<style scoped>\n",
              "    .dataframe tbody tr th:only-of-type {\n",
              "        vertical-align: middle;\n",
              "    }\n",
              "\n",
              "    .dataframe tbody tr th {\n",
              "        vertical-align: top;\n",
              "    }\n",
              "\n",
              "    .dataframe thead th {\n",
              "        text-align: right;\n",
              "    }\n",
              "</style>\n",
              "<table border=\"1\" class=\"dataframe\">\n",
              "  <thead>\n",
              "    <tr style=\"text-align: right;\">\n",
              "      <th></th>\n",
              "      <th>Salary</th>\n",
              "      <th>Name</th>\n",
              "    </tr>\n",
              "  </thead>\n",
              "  <tbody>\n",
              "    <tr>\n",
              "      <th>0</th>\n",
              "      <td>50000</td>\n",
              "      <td>John</td>\n",
              "    </tr>\n",
              "    <tr>\n",
              "      <th>1</th>\n",
              "      <td>120000</td>\n",
              "      <td>Sally</td>\n",
              "    </tr>\n",
              "    <tr>\n",
              "      <th>2</th>\n",
              "      <td>80000</td>\n",
              "      <td>Alyssa</td>\n",
              "    </tr>\n",
              "  </tbody>\n",
              "</table>\n",
              "</div>"
            ],
            "text/plain": [
              "   Salary    Name\n",
              "0   50000    John\n",
              "1  120000   Sally\n",
              "2   80000  Alyssa"
            ]
          },
          "metadata": {
            "tags": []
          },
          "execution_count": 43
        }
      ]
    },
    {
      "metadata": {
        "id": "ZpZeT9jwzMDP",
        "colab_type": "code",
        "colab": {
          "base_uri": "https://localhost:8080/",
          "height": 35
        },
        "outputId": "701c97f3-5e03-4802-d6fa-88d4ebeb27b8"
      },
      "cell_type": "code",
      "source": [
        "df['Salary'].max()"
      ],
      "execution_count": 44,
      "outputs": [
        {
          "output_type": "execute_result",
          "data": {
            "text/plain": [
              "120000"
            ]
          },
          "metadata": {
            "tags": []
          },
          "execution_count": 44
        }
      ]
    },
    {
      "metadata": {
        "id": "o4mEKSJHzSAU",
        "colab_type": "code",
        "colab": {
          "base_uri": "https://localhost:8080/",
          "height": 300
        },
        "outputId": "b28b7ce2-0456-45b9-a48e-fff546dac0dd"
      },
      "cell_type": "code",
      "source": [
        "df.describe()"
      ],
      "execution_count": 45,
      "outputs": [
        {
          "output_type": "execute_result",
          "data": {
            "text/html": [
              "<div>\n",
              "<style scoped>\n",
              "    .dataframe tbody tr th:only-of-type {\n",
              "        vertical-align: middle;\n",
              "    }\n",
              "\n",
              "    .dataframe tbody tr th {\n",
              "        vertical-align: top;\n",
              "    }\n",
              "\n",
              "    .dataframe thead th {\n",
              "        text-align: right;\n",
              "    }\n",
              "</style>\n",
              "<table border=\"1\" class=\"dataframe\">\n",
              "  <thead>\n",
              "    <tr style=\"text-align: right;\">\n",
              "      <th></th>\n",
              "      <th>Salary</th>\n",
              "      <th>Age</th>\n",
              "    </tr>\n",
              "  </thead>\n",
              "  <tbody>\n",
              "    <tr>\n",
              "      <th>count</th>\n",
              "      <td>3.000000</td>\n",
              "      <td>3.000000</td>\n",
              "    </tr>\n",
              "    <tr>\n",
              "      <th>mean</th>\n",
              "      <td>83333.333333</td>\n",
              "      <td>35.333333</td>\n",
              "    </tr>\n",
              "    <tr>\n",
              "      <th>std</th>\n",
              "      <td>35118.845843</td>\n",
              "      <td>9.073772</td>\n",
              "    </tr>\n",
              "    <tr>\n",
              "      <th>min</th>\n",
              "      <td>50000.000000</td>\n",
              "      <td>27.000000</td>\n",
              "    </tr>\n",
              "    <tr>\n",
              "      <th>25%</th>\n",
              "      <td>65000.000000</td>\n",
              "      <td>30.500000</td>\n",
              "    </tr>\n",
              "    <tr>\n",
              "      <th>50%</th>\n",
              "      <td>80000.000000</td>\n",
              "      <td>34.000000</td>\n",
              "    </tr>\n",
              "    <tr>\n",
              "      <th>75%</th>\n",
              "      <td>100000.000000</td>\n",
              "      <td>39.500000</td>\n",
              "    </tr>\n",
              "    <tr>\n",
              "      <th>max</th>\n",
              "      <td>120000.000000</td>\n",
              "      <td>45.000000</td>\n",
              "    </tr>\n",
              "  </tbody>\n",
              "</table>\n",
              "</div>"
            ],
            "text/plain": [
              "              Salary        Age\n",
              "count       3.000000   3.000000\n",
              "mean    83333.333333  35.333333\n",
              "std     35118.845843   9.073772\n",
              "min     50000.000000  27.000000\n",
              "25%     65000.000000  30.500000\n",
              "50%     80000.000000  34.000000\n",
              "75%    100000.000000  39.500000\n",
              "max    120000.000000  45.000000"
            ]
          },
          "metadata": {
            "tags": []
          },
          "execution_count": 45
        }
      ]
    },
    {
      "metadata": {
        "id": "bYQRp94xzTzM",
        "colab_type": "code",
        "colab": {
          "base_uri": "https://localhost:8080/",
          "height": 90
        },
        "outputId": "44c5d202-a6ea-4cc6-f3c0-cfc15a657263"
      },
      "cell_type": "code",
      "source": [
        "df['Salary'] > 60000"
      ],
      "execution_count": 46,
      "outputs": [
        {
          "output_type": "execute_result",
          "data": {
            "text/plain": [
              "0    False\n",
              "1     True\n",
              "2     True\n",
              "Name: Salary, dtype: bool"
            ]
          },
          "metadata": {
            "tags": []
          },
          "execution_count": 46
        }
      ]
    },
    {
      "metadata": {
        "id": "by5PhNjXzZ8k",
        "colab_type": "code",
        "colab": {}
      },
      "cell_type": "code",
      "source": [
        "df = df[df['Salary']>60000]"
      ],
      "execution_count": 0,
      "outputs": []
    },
    {
      "metadata": {
        "id": "U7ucErUAzjdd",
        "colab_type": "code",
        "colab": {
          "base_uri": "https://localhost:8080/",
          "height": 112
        },
        "outputId": "b7eafffc-fd55-4e05-9767-785be379f443"
      },
      "cell_type": "code",
      "source": [
        "df"
      ],
      "execution_count": 48,
      "outputs": [
        {
          "output_type": "execute_result",
          "data": {
            "text/html": [
              "<div>\n",
              "<style scoped>\n",
              "    .dataframe tbody tr th:only-of-type {\n",
              "        vertical-align: middle;\n",
              "    }\n",
              "\n",
              "    .dataframe tbody tr th {\n",
              "        vertical-align: top;\n",
              "    }\n",
              "\n",
              "    .dataframe thead th {\n",
              "        text-align: right;\n",
              "    }\n",
              "</style>\n",
              "<table border=\"1\" class=\"dataframe\">\n",
              "  <thead>\n",
              "    <tr style=\"text-align: right;\">\n",
              "      <th></th>\n",
              "      <th>Name</th>\n",
              "      <th>Salary</th>\n",
              "      <th>Age</th>\n",
              "    </tr>\n",
              "  </thead>\n",
              "  <tbody>\n",
              "    <tr>\n",
              "      <th>1</th>\n",
              "      <td>Sally</td>\n",
              "      <td>120000</td>\n",
              "      <td>45</td>\n",
              "    </tr>\n",
              "    <tr>\n",
              "      <th>2</th>\n",
              "      <td>Alyssa</td>\n",
              "      <td>80000</td>\n",
              "      <td>27</td>\n",
              "    </tr>\n",
              "  </tbody>\n",
              "</table>\n",
              "</div>"
            ],
            "text/plain": [
              "     Name  Salary  Age\n",
              "1   Sally  120000   45\n",
              "2  Alyssa   80000   27"
            ]
          },
          "metadata": {
            "tags": []
          },
          "execution_count": 48
        }
      ]
    },
    {
      "metadata": {
        "id": "E5jyQdKczkNT",
        "colab_type": "code",
        "colab": {
          "base_uri": "https://localhost:8080/",
          "height": 54
        },
        "outputId": "4ec332a7-54a4-4680-9cf8-d8f3b7b99431"
      },
      "cell_type": "code",
      "source": [
        "#return as numpy matrix\n",
        "df.as_matrix()"
      ],
      "execution_count": 49,
      "outputs": [
        {
          "output_type": "execute_result",
          "data": {
            "text/plain": [
              "array([['Sally', 120000, 45],\n",
              "       ['Alyssa', 80000, 27]], dtype=object)"
            ]
          },
          "metadata": {
            "tags": []
          },
          "execution_count": 49
        }
      ]
    },
    {
      "metadata": {
        "id": "L5Ay8hCyznbR",
        "colab_type": "code",
        "colab": {}
      },
      "cell_type": "code",
      "source": [
        ""
      ],
      "execution_count": 0,
      "outputs": []
    }
  ]
}