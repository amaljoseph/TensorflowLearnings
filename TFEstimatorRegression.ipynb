{
  "nbformat": 4,
  "nbformat_minor": 0,
  "metadata": {
    "colab": {
      "name": "TFEstimatorRegression.ipynb",
      "version": "0.3.2",
      "provenance": [],
      "collapsed_sections": [],
      "include_colab_link": true
    },
    "kernelspec": {
      "name": "python3",
      "display_name": "Python 3"
    },
    "accelerator": "GPU"
  },
  "cells": [
    {
      "cell_type": "markdown",
      "metadata": {
        "id": "view-in-github",
        "colab_type": "text"
      },
      "source": [
        "<a href=\"https://colab.research.google.com/github/amaljoseph/TensorflowLearnings/blob/master/TFEstimatorRegression.ipynb\" target=\"_parent\"><img src=\"https://colab.research.google.com/assets/colab-badge.svg\" alt=\"Open In Colab\"/></a>"
      ]
    },
    {
      "metadata": {
        "id": "o6ZOvlVNboU6",
        "colab_type": "code",
        "colab": {}
      },
      "cell_type": "code",
      "source": [
        "import numpy as np\n",
        "import pandas as pd\n",
        "import matplotlib.pyplot as plt\n",
        "%matplotlib inline\n",
        "\n",
        "import tensorflow as tf"
      ],
      "execution_count": 0,
      "outputs": []
    },
    {
      "metadata": {
        "id": "GtadYuq0c7Z2",
        "colab_type": "code",
        "colab": {}
      },
      "cell_type": "code",
      "source": [
        "x_data = np.linspace(0.0, 10, 1000000)\n",
        "noise = np.random.randn(len(x_data))\n",
        "y_true = (0.5)*x_data + 5 + noise"
      ],
      "execution_count": 0,
      "outputs": []
    },
    {
      "metadata": {
        "id": "oStD0Ym5e-wV",
        "colab_type": "code",
        "colab": {}
      },
      "cell_type": "code",
      "source": [
        "feat_cols = [tf.feature_column.numeric_column('x', shape=[1])]"
      ],
      "execution_count": 0,
      "outputs": []
    },
    {
      "metadata": {
        "id": "kDFSK5kKfOPR",
        "colab_type": "code",
        "colab": {
          "base_uri": "https://localhost:8080/",
          "height": 202
        },
        "outputId": "54e65a85-6f57-42dc-97fc-c6c87dd4a0d1"
      },
      "cell_type": "code",
      "source": [
        "estimator = tf.estimator.LinearRegressor(feature_columns=feat_cols)"
      ],
      "execution_count": 19,
      "outputs": [
        {
          "output_type": "stream",
          "text": [
            "INFO:tensorflow:Using default config.\n",
            "WARNING:tensorflow:Using temporary folder as model directory: /tmp/tmptlnk6s_i\n",
            "INFO:tensorflow:Using config: {'_model_dir': '/tmp/tmptlnk6s_i', '_tf_random_seed': None, '_save_summary_steps': 100, '_save_checkpoints_steps': None, '_save_checkpoints_secs': 600, '_session_config': allow_soft_placement: true\n",
            "graph_options {\n",
            "  rewrite_options {\n",
            "    meta_optimizer_iterations: ONE\n",
            "  }\n",
            "}\n",
            ", '_keep_checkpoint_max': 5, '_keep_checkpoint_every_n_hours': 10000, '_log_step_count_steps': 100, '_train_distribute': None, '_device_fn': None, '_protocol': None, '_eval_distribute': None, '_experimental_distribute': None, '_service': None, '_cluster_spec': <tensorflow.python.training.server_lib.ClusterSpec object at 0x7f9ee4c45ac8>, '_task_type': 'worker', '_task_id': 0, '_global_id_in_cluster': 0, '_master': '', '_evaluation_master': '', '_is_chief': True, '_num_ps_replicas': 0, '_num_worker_replicas': 1}\n"
          ],
          "name": "stdout"
        }
      ]
    },
    {
      "metadata": {
        "id": "NsOfKasgfb99",
        "colab_type": "code",
        "colab": {}
      },
      "cell_type": "code",
      "source": [
        "from sklearn.model_selection import train_test_split"
      ],
      "execution_count": 0,
      "outputs": []
    },
    {
      "metadata": {
        "id": "46Cxr69Dfh_8",
        "colab_type": "code",
        "colab": {}
      },
      "cell_type": "code",
      "source": [
        "x_train, x_eval, y_train, y_eval = train_test_split(x_data, y_true, test_size=0.3, random_state=101)"
      ],
      "execution_count": 0,
      "outputs": []
    },
    {
      "metadata": {
        "id": "d_A_P7F9fvA1",
        "colab_type": "code",
        "colab": {}
      },
      "cell_type": "code",
      "source": [
        "input_func = tf.estimator.inputs.numpy_input_fn({'x':x_train}, y_train, batch_size=8, num_epochs=None, shuffle=True)"
      ],
      "execution_count": 0,
      "outputs": []
    },
    {
      "metadata": {
        "id": "QeXeqBoUgQ2O",
        "colab_type": "code",
        "colab": {}
      },
      "cell_type": "code",
      "source": [
        "train_input_func = tf.estimator.inputs.numpy_input_fn({'x':x_train}, y_train, batch_size=8, num_epochs=1000, shuffle=False)"
      ],
      "execution_count": 0,
      "outputs": []
    },
    {
      "metadata": {
        "id": "NSjwu3Rfgfw1",
        "colab_type": "code",
        "colab": {}
      },
      "cell_type": "code",
      "source": [
        "eval_input_func = tf.estimator.inputs.numpy_input_fn({'x':x_eval}, y_eval, batch_size=8, num_epochs=1000, shuffle=False)"
      ],
      "execution_count": 0,
      "outputs": []
    },
    {
      "metadata": {
        "id": "a-OCgATdgnO7",
        "colab_type": "code",
        "colab": {
          "base_uri": "https://localhost:8080/",
          "height": 568
        },
        "outputId": "79e29b44-9efe-49f1-b916-cecae6376c1b"
      },
      "cell_type": "code",
      "source": [
        "estimator.train(input_fn=input_func, steps=1000)"
      ],
      "execution_count": 25,
      "outputs": [
        {
          "output_type": "stream",
          "text": [
            "INFO:tensorflow:Calling model_fn.\n",
            "INFO:tensorflow:Done calling model_fn.\n",
            "INFO:tensorflow:Create CheckpointSaverHook.\n",
            "INFO:tensorflow:Graph was finalized.\n",
            "INFO:tensorflow:Restoring parameters from /tmp/tmptlnk6s_i/model.ckpt-1100\n",
            "INFO:tensorflow:Running local_init_op.\n",
            "INFO:tensorflow:Done running local_init_op.\n",
            "INFO:tensorflow:Saving checkpoints for 1100 into /tmp/tmptlnk6s_i/model.ckpt.\n",
            "INFO:tensorflow:loss = 5.0072727, step = 1100\n",
            "INFO:tensorflow:global_step/sec: 421.438\n",
            "INFO:tensorflow:loss = 2.5977185, step = 1200 (0.243 sec)\n",
            "INFO:tensorflow:global_step/sec: 475.904\n",
            "INFO:tensorflow:loss = 8.859283, step = 1300 (0.210 sec)\n",
            "INFO:tensorflow:global_step/sec: 510.339\n",
            "INFO:tensorflow:loss = 6.4587235, step = 1400 (0.194 sec)\n",
            "INFO:tensorflow:global_step/sec: 553.957\n",
            "INFO:tensorflow:loss = 3.5938845, step = 1500 (0.181 sec)\n",
            "INFO:tensorflow:global_step/sec: 544.222\n",
            "INFO:tensorflow:loss = 8.052393, step = 1600 (0.184 sec)\n",
            "INFO:tensorflow:global_step/sec: 560.731\n",
            "INFO:tensorflow:loss = 14.805586, step = 1700 (0.178 sec)\n",
            "INFO:tensorflow:global_step/sec: 546.491\n",
            "INFO:tensorflow:loss = 6.185238, step = 1800 (0.184 sec)\n",
            "INFO:tensorflow:global_step/sec: 563.988\n",
            "INFO:tensorflow:loss = 10.299783, step = 1900 (0.178 sec)\n",
            "INFO:tensorflow:global_step/sec: 530.264\n",
            "INFO:tensorflow:loss = 5.5371585, step = 2000 (0.186 sec)\n",
            "INFO:tensorflow:Saving checkpoints for 2100 into /tmp/tmptlnk6s_i/model.ckpt.\n",
            "INFO:tensorflow:Loss for final step: 1.9636029.\n"
          ],
          "name": "stdout"
        },
        {
          "output_type": "execute_result",
          "data": {
            "text/plain": [
              "<tensorflow.python.estimator.canned.linear.LinearRegressor at 0x7f9ee4c45dd8>"
            ]
          },
          "metadata": {
            "tags": []
          },
          "execution_count": 25
        }
      ]
    },
    {
      "metadata": {
        "id": "ElVd-TmGgvYP",
        "colab_type": "code",
        "colab": {
          "base_uri": "https://localhost:8080/",
          "height": 404
        },
        "outputId": "cb45b9db-83e5-40d9-9668-16cd375f3f3e"
      },
      "cell_type": "code",
      "source": [
        "train_metrics = estimator.evaluate(input_fn=train_input_func, steps=1000)"
      ],
      "execution_count": 27,
      "outputs": [
        {
          "output_type": "stream",
          "text": [
            "INFO:tensorflow:Calling model_fn.\n",
            "INFO:tensorflow:Done calling model_fn.\n",
            "INFO:tensorflow:Starting evaluation at 2019-01-20-09:15:16\n",
            "INFO:tensorflow:Graph was finalized.\n",
            "INFO:tensorflow:Restoring parameters from /tmp/tmptlnk6s_i/model.ckpt-2100\n",
            "INFO:tensorflow:Running local_init_op.\n",
            "INFO:tensorflow:Done running local_init_op.\n",
            "INFO:tensorflow:Evaluation [100/1000]\n",
            "INFO:tensorflow:Evaluation [200/1000]\n",
            "INFO:tensorflow:Evaluation [300/1000]\n",
            "INFO:tensorflow:Evaluation [400/1000]\n",
            "INFO:tensorflow:Evaluation [500/1000]\n",
            "INFO:tensorflow:Evaluation [600/1000]\n",
            "INFO:tensorflow:Evaluation [700/1000]\n",
            "INFO:tensorflow:Evaluation [800/1000]\n",
            "INFO:tensorflow:Evaluation [900/1000]\n",
            "INFO:tensorflow:Evaluation [1000/1000]\n",
            "INFO:tensorflow:Finished evaluation at 2019-01-20-09:15:19\n",
            "INFO:tensorflow:Saving dict for global step 2100: average_loss = 1.034749, global_step = 2100, label/mean = 7.505975, loss = 8.277992, prediction/mean = 7.433971\n",
            "INFO:tensorflow:Saving 'checkpoint_path' summary for global step 2100: /tmp/tmptlnk6s_i/model.ckpt-2100\n"
          ],
          "name": "stdout"
        }
      ]
    },
    {
      "metadata": {
        "id": "0Ys6ztmairmi",
        "colab_type": "code",
        "colab": {
          "base_uri": "https://localhost:8080/",
          "height": 404
        },
        "outputId": "a8ff9a34-225e-4c4d-fd2d-7e8111cea82e"
      },
      "cell_type": "code",
      "source": [
        "eval_metrics = estimator.evaluate(input_fn=eval_input_func, steps=1000)"
      ],
      "execution_count": 32,
      "outputs": [
        {
          "output_type": "stream",
          "text": [
            "INFO:tensorflow:Calling model_fn.\n",
            "INFO:tensorflow:Done calling model_fn.\n",
            "INFO:tensorflow:Starting evaluation at 2019-01-20-09:17:38\n",
            "INFO:tensorflow:Graph was finalized.\n",
            "INFO:tensorflow:Restoring parameters from /tmp/tmptlnk6s_i/model.ckpt-2100\n",
            "INFO:tensorflow:Running local_init_op.\n",
            "INFO:tensorflow:Done running local_init_op.\n",
            "INFO:tensorflow:Evaluation [100/1000]\n",
            "INFO:tensorflow:Evaluation [200/1000]\n",
            "INFO:tensorflow:Evaluation [300/1000]\n",
            "INFO:tensorflow:Evaluation [400/1000]\n",
            "INFO:tensorflow:Evaluation [500/1000]\n",
            "INFO:tensorflow:Evaluation [600/1000]\n",
            "INFO:tensorflow:Evaluation [700/1000]\n",
            "INFO:tensorflow:Evaluation [800/1000]\n",
            "INFO:tensorflow:Evaluation [900/1000]\n",
            "INFO:tensorflow:Evaluation [1000/1000]\n",
            "INFO:tensorflow:Finished evaluation at 2019-01-20-09:17:41\n",
            "INFO:tensorflow:Saving dict for global step 2100: average_loss = 1.0262244, global_step = 2100, label/mean = 7.498008, loss = 8.209795, prediction/mean = 7.4154997\n",
            "INFO:tensorflow:Saving 'checkpoint_path' summary for global step 2100: /tmp/tmptlnk6s_i/model.ckpt-2100\n"
          ],
          "name": "stdout"
        }
      ]
    },
    {
      "metadata": {
        "id": "QTrrtSEgi6OZ",
        "colab_type": "code",
        "colab": {
          "base_uri": "https://localhost:8080/",
          "height": 54
        },
        "outputId": "2c367e51-7578-488b-e039-a89b3afa6f70"
      },
      "cell_type": "code",
      "source": [
        "print(\"Training Data Metrics\")\n",
        "print(train_metrics)"
      ],
      "execution_count": 30,
      "outputs": [
        {
          "output_type": "stream",
          "text": [
            "Training Data Metrics\n",
            "{'average_loss': 1.034749, 'label/mean': 7.505975, 'loss': 8.277992, 'prediction/mean': 7.433971, 'global_step': 2100}\n"
          ],
          "name": "stdout"
        }
      ]
    },
    {
      "metadata": {
        "id": "_-VPFPpIi9-b",
        "colab_type": "code",
        "colab": {
          "base_uri": "https://localhost:8080/",
          "height": 54
        },
        "outputId": "4708d885-b2a3-4d06-eade-5b02dbcd28d1"
      },
      "cell_type": "code",
      "source": [
        "print(\"Eval Metrics\")\n",
        "print(eval_metrics)"
      ],
      "execution_count": 33,
      "outputs": [
        {
          "output_type": "stream",
          "text": [
            "Eval Metrics\n",
            "{'average_loss': 1.0262244, 'label/mean': 7.498008, 'loss': 8.209795, 'prediction/mean': 7.4154997, 'global_step': 2100}\n"
          ],
          "name": "stdout"
        }
      ]
    },
    {
      "metadata": {
        "id": "llKiqivwjri0",
        "colab_type": "code",
        "colab": {}
      },
      "cell_type": "code",
      "source": [
        "brand_new_data = np.linspace(0, 10, 10)\n",
        "input_fn_predict = tf.estimator.inputs.numpy_input_fn({'x':brand_new_data}, shuffle=False)"
      ],
      "execution_count": 0,
      "outputs": []
    },
    {
      "metadata": {
        "id": "XZu8GGAbj-o3",
        "colab_type": "code",
        "colab": {
          "base_uri": "https://localhost:8080/",
          "height": 311
        },
        "outputId": "0c964f61-577b-4d5f-b198-05c8067b87ef"
      },
      "cell_type": "code",
      "source": [
        "list(estimator.predict(input_fn=input_fn_predict))"
      ],
      "execution_count": 36,
      "outputs": [
        {
          "output_type": "stream",
          "text": [
            "INFO:tensorflow:Calling model_fn.\n",
            "INFO:tensorflow:Done calling model_fn.\n",
            "INFO:tensorflow:Graph was finalized.\n",
            "INFO:tensorflow:Restoring parameters from /tmp/tmptlnk6s_i/model.ckpt-2100\n",
            "INFO:tensorflow:Running local_init_op.\n",
            "INFO:tensorflow:Done running local_init_op.\n"
          ],
          "name": "stdout"
        },
        {
          "output_type": "execute_result",
          "data": {
            "text/plain": [
              "[{'predictions': array([4.876396], dtype=float32)},\n",
              " {'predictions': array([5.4444904], dtype=float32)},\n",
              " {'predictions': array([6.012585], dtype=float32)},\n",
              " {'predictions': array([6.5806794], dtype=float32)},\n",
              " {'predictions': array([7.148774], dtype=float32)},\n",
              " {'predictions': array([7.716868], dtype=float32)},\n",
              " {'predictions': array([8.284963], dtype=float32)},\n",
              " {'predictions': array([8.853057], dtype=float32)},\n",
              " {'predictions': array([9.421152], dtype=float32)},\n",
              " {'predictions': array([9.989245], dtype=float32)}]"
            ]
          },
          "metadata": {
            "tags": []
          },
          "execution_count": 36
        }
      ]
    },
    {
      "metadata": {
        "id": "UEZv_Tz2lfYa",
        "colab_type": "code",
        "colab": {
          "base_uri": "https://localhost:8080/",
          "height": 127
        },
        "outputId": "dfcef3c2-7718-4cab-ba77-2aac7c64a595"
      },
      "cell_type": "code",
      "source": [
        "predictions = []\n",
        "\n",
        "for pred in estimator.predict(input_fn=input_fn_predict):\n",
        "  predictions.append(pred['predictions'])"
      ],
      "execution_count": 44,
      "outputs": [
        {
          "output_type": "stream",
          "text": [
            "INFO:tensorflow:Calling model_fn.\n",
            "INFO:tensorflow:Done calling model_fn.\n",
            "INFO:tensorflow:Graph was finalized.\n",
            "INFO:tensorflow:Restoring parameters from /tmp/tmptlnk6s_i/model.ckpt-2100\n",
            "INFO:tensorflow:Running local_init_op.\n",
            "INFO:tensorflow:Done running local_init_op.\n"
          ],
          "name": "stdout"
        }
      ]
    },
    {
      "metadata": {
        "id": "shdE3uWikXty",
        "colab_type": "code",
        "colab": {
          "base_uri": "https://localhost:8080/",
          "height": 201
        },
        "outputId": "d6b2f9a9-8013-4c1e-9fc9-affc382a82ac"
      },
      "cell_type": "code",
      "source": [
        "predictions"
      ],
      "execution_count": 45,
      "outputs": [
        {
          "output_type": "execute_result",
          "data": {
            "text/plain": [
              "[array([4.876396], dtype=float32),\n",
              " array([5.4444904], dtype=float32),\n",
              " array([6.012585], dtype=float32),\n",
              " array([6.5806794], dtype=float32),\n",
              " array([7.148774], dtype=float32),\n",
              " array([7.716868], dtype=float32),\n",
              " array([8.284963], dtype=float32),\n",
              " array([8.853057], dtype=float32),\n",
              " array([9.421152], dtype=float32),\n",
              " array([9.989245], dtype=float32)]"
            ]
          },
          "metadata": {
            "tags": []
          },
          "execution_count": 45
        }
      ]
    },
    {
      "metadata": {
        "id": "2i1h283lkZ_f",
        "colab_type": "code",
        "colab": {
          "base_uri": "https://localhost:8080/",
          "height": 336
        },
        "outputId": "219426ed-9630-4ee9-a6ea-8ded410642b6"
      },
      "cell_type": "code",
      "source": [
        "x_df = pd.DataFrame(data=x_data, columns=['X Data'])\n",
        "y_df = pd.DataFrame(data=y_true, columns=['Y'])\n",
        "my_data = pd.concat([x_df, y_df], axis=1)\n",
        "my_data.sample(n=250).plot(kind='scatter', x='X Data', y='Y')\n",
        "plt.plot(brand_new_data, predictions, 'r')"
      ],
      "execution_count": 48,
      "outputs": [
        {
          "output_type": "stream",
          "text": [
            "'c' argument looks like a single numeric RGB or RGBA sequence, which should be avoided as value-mapping will have precedence in case its length matches with 'x' & 'y'.  Please use a 2-D array with a single row if you really want to specify the same RGB or RGBA value for all points.\n"
          ],
          "name": "stderr"
        },
        {
          "output_type": "execute_result",
          "data": {
            "text/plain": [
              "[<matplotlib.lines.Line2D at 0x7f9f3028eef0>]"
            ]
          },
          "metadata": {
            "tags": []
          },
          "execution_count": 48
        },
        {
          "output_type": "display_data",
          "data": {
            "image/png": "[encoded data removed]",
            "text/plain": [
              "<Figure size 432x288 with 1 Axes>"
            ]
          },
          "metadata": {
            "tags": []
          }
        }
      ]
    },
    {
      "metadata": {
        "id": "3suK9RuWlHaX",
        "colab_type": "code",
        "colab": {}
      },
      "cell_type": "code",
      "source": [
        ""
      ],
      "execution_count": 0,
      "outputs": []
    }
  ]
}