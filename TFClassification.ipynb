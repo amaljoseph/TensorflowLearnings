{
  "nbformat": 4,
  "nbformat_minor": 0,
  "metadata": {
    "colab": {
      "name": "TFClassification.ipynb",
      "version": "0.3.2",
      "provenance": [],
      "collapsed_sections": [],
      "include_colab_link": true
    },
    "kernelspec": {
      "name": "python3",
      "display_name": "Python 3"
    },
    "accelerator": "GPU"
  },
  "cells": [
    {
      "cell_type": "markdown",
      "metadata": {
        "id": "view-in-github",
        "colab_type": "text"
      },
      "source": [
        "<a href=\"https://colab.research.google.com/github/amaljoseph/TensorflowLearnings/blob/master/TFClassification.ipynb\" target=\"_parent\"><img src=\"https://colab.research.google.com/assets/colab-badge.svg\" alt=\"Open In Colab\"/></a>"
      ]
    },
    {
      "metadata": {
        "id": "dvwMeSzYy5bD",
        "colab_type": "code",
        "colab": {
          "base_uri": "https://localhost:8080/",
          "height": 127
        },
        "cellView": "both",
        "outputId": "c413e211-602a-4d0b-8680-f5ba86358c77"
      },
      "cell_type": "code",
      "source": [
        "#@title Default title text\n",
        "!git clone https://github.com/amaljoseph/TensorflowLearnings"
      ],
      "execution_count": 1,
      "outputs": [
        {
          "output_type": "stream",
          "text": [
            "Cloning into 'TensorflowLearnings'...\n",
            "remote: Enumerating objects: 64, done.\u001b[K\n",
            "remote: Counting objects:   1% (1/64)   \u001b[K\rremote: Counting objects:   3% (2/64)   \u001b[K\rremote: Counting objects:   4% (3/64)   \u001b[K\rremote: Counting objects:   6% (4/64)   \u001b[K\rremote: Counting objects:   7% (5/64)   \u001b[K\rremote: Counting objects:   9% (6/64)   \u001b[K\rremote: Counting objects:  10% (7/64)   \u001b[K\rremote: Counting objects:  12% (8/64)   \u001b[K\rremote: Counting objects:  14% (9/64)   \u001b[K\rremote: Counting objects:  15% (10/64)   \u001b[K\rremote: Counting objects:  17% (11/64)   \u001b[K\rremote: Counting objects:  18% (12/64)   \u001b[K\rremote: Counting objects:  20% (13/64)   \u001b[K\rremote: Counting objects:  21% (14/64)   \u001b[K\rremote: Counting objects:  23% (15/64)   \u001b[K\rremote: Counting objects:  25% (16/64)   \u001b[K\rremote: Counting objects:  26% (17/64)   \u001b[K\rremote: Counting objects:  28% (18/64)   \u001b[K\rremote: Counting objects:  29% (19/64)   \u001b[K\rremote: Counting objects:  31% (20/64)   \u001b[K\rremote: Counting objects:  32% (21/64)   \u001b[K\rremote: Counting objects:  34% (22/64)   \u001b[K\rremote: Counting objects:  35% (23/64)   \u001b[K\rremote: Counting objects:  37% (24/64)   \u001b[K\rremote: Counting objects:  39% (25/64)   \u001b[K\rremote: Counting objects:  40% (26/64)   \u001b[K\rremote: Counting objects:  42% (27/64)   \u001b[K\rremote: Counting objects:  43% (28/64)   \u001b[K\rremote: Counting objects:  45% (29/64)   \u001b[K\rremote: Counting objects:  46% (30/64)   \u001b[K\rremote: Counting objects:  48% (31/64)   \u001b[K\rremote: Counting objects:  50% (32/64)   \u001b[K\rremote: Counting objects:  51% (33/64)   \u001b[K\rremote: Counting objects:  53% (34/64)   \u001b[K\rremote: Counting objects:  54% (35/64)   \u001b[K\rremote: Counting objects:  56% (36/64)   \u001b[K\rremote: Counting objects:  57% (37/64)   \u001b[K\rremote: Counting objects:  59% (38/64)   \u001b[K\rremote: Counting objects:  60% (39/64)   \u001b[K\rremote: Counting objects:  62% (40/64)   \u001b[K\rremote: Counting objects:  64% (41/64)   \u001b[K\rremote: Counting objects:  65% (42/64)   \u001b[K\rremote: Counting objects:  67% (43/64)   \u001b[K\rremote: Counting objects:  68% (44/64)   \u001b[K\rremote: Counting objects:  70% (45/64)   \u001b[K\rremote: Counting objects:  71% (46/64)   \u001b[K\rremote: Counting objects:  73% (47/64)   \u001b[K\rremote: Counting objects:  75% (48/64)   \u001b[K\rremote: Counting objects:  76% (49/64)   \u001b[K\rremote: Counting objects:  78% (50/64)   \u001b[K\rremote: Counting objects:  79% (51/64)   \u001b[K\rremote: Counting objects:  81% (52/64)   \u001b[K\rremote: Counting objects:  82% (53/64)   \u001b[K\rremote: Counting objects:  84% (54/64)   \u001b[K\rremote: Counting objects:  85% (55/64)   \u001b[K\rremote: Counting objects:  87% (56/64)   \u001b[K\rremote: Counting objects:  89% (57/64)   \u001b[K\rremote: Counting objects:  90% (58/64)   \u001b[K\rremote: Counting objects:  92% (59/64)   \u001b[K\rremote: Counting objects:  93% (60/64)   \u001b[K\rremote: Counting objects:  95% (61/64)   \u001b[K\rremote: Counting objects:  96% (62/64)   \u001b[K\rremote: Counting objects:  98% (63/64)   \u001b[K\rremote: Counting objects: 100% (64/64)   \u001b[K\rremote: Counting objects: 100% (64/64), done.\u001b[K\n",
            "remote: Compressing objects:   1% (1/55)   \u001b[K\rremote: Compressing objects:   3% (2/55)   \u001b[K\rremote: Compressing objects:   5% (3/55)   \u001b[K\rremote: Compressing objects:   7% (4/55)   \u001b[K\rremote: Compressing objects:   9% (5/55)   \u001b[K\rremote: Compressing objects:  10% (6/55)   \u001b[K\rremote: Compressing objects:  12% (7/55)   \u001b[K\rremote: Compressing objects:  14% (8/55)   \u001b[K\rremote: Compressing objects:  16% (9/55)   \u001b[K\rremote: Compressing objects:  18% (10/55)   \u001b[K\rremote: Compressing objects:  20% (11/55)   \u001b[K\rremote: Compressing objects:  21% (12/55)   \u001b[K\rremote: Compressing objects:  23% (13/55)   \u001b[K\rremote: Compressing objects:  25% (14/55)   \u001b[K\rremote: Compressing objects:  27% (15/55)   \u001b[K\rremote: Compressing objects:  29% (16/55)   \u001b[K\rremote: Compressing objects:  30% (17/55)   \u001b[K\rremote: Compressing objects:  32% (18/55)   \u001b[K\rremote: Compressing objects:  34% (19/55)   \u001b[K\rremote: Compressing objects:  36% (20/55)   \u001b[K\rremote: Compressing objects:  38% (21/55)   \u001b[K\rremote: Compressing objects:  40% (22/55)   \u001b[K\rremote: Compressing objects:  41% (23/55)   \u001b[K\rremote: Compressing objects:  43% (24/55)   \u001b[K\rremote: Compressing objects:  45% (25/55)   \u001b[K\rremote: Compressing objects:  47% (26/55)   \u001b[K\rremote: Compressing objects:  49% (27/55)   \u001b[K\rremote: Compressing objects:  50% (28/55)   \u001b[K\rremote: Compressing objects:  52% (29/55)   \u001b[K\rremote: Compressing objects:  54% (30/55)   \u001b[K\rremote: Compressing objects:  56% (31/55)   \u001b[K\rremote: Compressing objects:  58% (32/55)   \u001b[K\rremote: Compressing objects:  60% (33/55)   \u001b[K\rremote: Compressing objects:  61% (34/55)   \u001b[K\rremote: Compressing objects:  63% (35/55)   \u001b[K\rremote: Compressing objects:  65% (36/55)   \u001b[K\rremote: Compressing objects:  67% (37/55)   \u001b[K\rremote: Compressing objects:  69% (38/55)   \u001b[K\rremote: Compressing objects:  70% (39/55)   \u001b[K\rremote: Compressing objects:  72% (40/55)   \u001b[K\rremote: Compressing objects:  74% (41/55)   \u001b[K\rremote: Compressing objects:  76% (42/55)   \u001b[K\rremote: Compressing objects:  78% (43/55)   \u001b[K\rremote: Compressing objects:  80% (44/55)   \u001b[K\rremote: Compressing objects:  81% (45/55)   \u001b[K\rremote: Compressing objects:  83% (46/55)   \u001b[K\rremote: Compressing objects:  85% (47/55)   \u001b[K\rremote: Compressing objects:  87% (48/55)   \u001b[K\rremote: Compressing objects:  89% (49/55)   \u001b[K\rremote: Compressing objects:  90% (50/55)   \u001b[K\rremote: Compressing objects:  92% (51/55)   \u001b[K\rremote: Compressing objects:  94% (52/55)   \u001b[K\rremote: Compressing objects:  96% (53/55)   \u001b[K\rremote: Compressing objects:  98% (54/55)   \u001b[K\rremote: Compressing objects: 100% (55/55)   \u001b[K\rremote: Compressing objects: 100% (55/55), done.\u001b[K\n",
            "Unpacking objects:   1% (1/64)   \rUnpacking objects:   3% (2/64)   \rUnpacking objects:   4% (3/64)   \rUnpacking objects:   6% (4/64)   \rUnpacking objects:   7% (5/64)   \rUnpacking objects:   9% (6/64)   \rUnpacking objects:  10% (7/64)   \rUnpacking objects:  12% (8/64)   \rUnpacking objects:  14% (9/64)   \rUnpacking objects:  15% (10/64)   \rUnpacking objects:  17% (11/64)   \rUnpacking objects:  18% (12/64)   \rUnpacking objects:  20% (13/64)   \rUnpacking objects:  21% (14/64)   \rUnpacking objects:  23% (15/64)   \rUnpacking objects:  25% (16/64)   \rUnpacking objects:  26% (17/64)   \rUnpacking objects:  28% (18/64)   \rUnpacking objects:  29% (19/64)   \rUnpacking objects:  31% (20/64)   \rUnpacking objects:  32% (21/64)   \rUnpacking objects:  34% (22/64)   \rUnpacking objects:  35% (23/64)   \rUnpacking objects:  37% (24/64)   \rUnpacking objects:  39% (25/64)   \rUnpacking objects:  40% (26/64)   \rUnpacking objects:  42% (27/64)   \rUnpacking objects:  43% (28/64)   \rUnpacking objects:  45% (29/64)   \rUnpacking objects:  46% (30/64)   \rUnpacking objects:  48% (31/64)   \rUnpacking objects:  50% (32/64)   \rUnpacking objects:  51% (33/64)   \rUnpacking objects:  53% (34/64)   \rUnpacking objects:  54% (35/64)   \rUnpacking objects:  56% (36/64)   \rremote: Total 64 (delta 21), reused 0 (delta 0), pack-reused 0\u001b[K\n",
            "Unpacking objects:  57% (37/64)   \rUnpacking objects:  59% (38/64)   \rUnpacking objects:  60% (39/64)   \rUnpacking objects:  62% (40/64)   \rUnpacking objects:  64% (41/64)   \rUnpacking objects:  65% (42/64)   \rUnpacking objects:  67% (43/64)   \rUnpacking objects:  68% (44/64)   \rUnpacking objects:  70% (45/64)   \rUnpacking objects:  71% (46/64)   \rUnpacking objects:  73% (47/64)   \rUnpacking objects:  75% (48/64)   \rUnpacking objects:  76% (49/64)   \rUnpacking objects:  78% (50/64)   \rUnpacking objects:  79% (51/64)   \rUnpacking objects:  81% (52/64)   \rUnpacking objects:  82% (53/64)   \rUnpacking objects:  84% (54/64)   \rUnpacking objects:  85% (55/64)   \rUnpacking objects:  87% (56/64)   \rUnpacking objects:  89% (57/64)   \rUnpacking objects:  90% (58/64)   \rUnpacking objects:  92% (59/64)   \rUnpacking objects:  93% (60/64)   \rUnpacking objects:  95% (61/64)   \rUnpacking objects:  96% (62/64)   \rUnpacking objects:  98% (63/64)   \rUnpacking objects: 100% (64/64)   \rUnpacking objects: 100% (64/64), done.\n"
          ],
          "name": "stdout"
        }
      ]
    },
    {
      "metadata": {
        "id": "xVkjs96mqMmN",
        "colab_type": "code",
        "colab": {}
      },
      "cell_type": "code",
      "source": [
        "import pandas as pd"
      ],
      "execution_count": 0,
      "outputs": []
    },
    {
      "metadata": {
        "id": "YPlCldjvtzhg",
        "colab_type": "code",
        "colab": {}
      },
      "cell_type": "code",
      "source": [
        "diabetes = pd.read_csv('TensorflowLearnings/udemy-datasets/02-TensorFlow-Basics/pima-indians-diabetes.csv')"
      ],
      "execution_count": 0,
      "outputs": []
    },
    {
      "metadata": {
        "id": "GxQGgE69uGDW",
        "colab_type": "code",
        "colab": {
          "base_uri": "https://localhost:8080/",
          "height": 72
        },
        "outputId": "3583c04d-8dd2-4e15-9f32-1c17fc2256cf"
      },
      "cell_type": "code",
      "source": [
        "diabetes.columns"
      ],
      "execution_count": 3,
      "outputs": [
        {
          "output_type": "execute_result",
          "data": {
            "text/plain": [
              "Index(['Number_pregnant', 'Glucose_concentration', 'Blood_pressure', 'Triceps',\n",
              "       'Insulin', 'BMI', 'Pedigree', 'Age', 'Class', 'Group'],\n",
              "      dtype='object')"
            ]
          },
          "metadata": {
            "tags": []
          },
          "execution_count": 3
        }
      ]
    },
    {
      "metadata": {
        "id": "4Gf4-qvyvw6R",
        "colab_type": "code",
        "colab": {}
      },
      "cell_type": "code",
      "source": [
        "cols_to_norm = ['Number_pregnant', 'Glucose_concentration', 'Blood_pressure', 'Triceps',\n",
        "       'Insulin', 'BMI', 'Pedigree',]"
      ],
      "execution_count": 0,
      "outputs": []
    },
    {
      "metadata": {
        "id": "LaG1f5rYv7rq",
        "colab_type": "code",
        "colab": {}
      },
      "cell_type": "code",
      "source": [
        "#to normalize\n",
        "diabetes[cols_to_norm] = diabetes[cols_to_norm].apply(lambda x:(x-x.min())/ (x.max()-x.min()))"
      ],
      "execution_count": 0,
      "outputs": []
    },
    {
      "metadata": {
        "id": "gD30o_ZswWhu",
        "colab_type": "code",
        "colab": {}
      },
      "cell_type": "code",
      "source": [
        "import tensorflow as tf"
      ],
      "execution_count": 0,
      "outputs": []
    },
    {
      "metadata": {
        "id": "Lhu5Csfnwlpx",
        "colab_type": "code",
        "colab": {}
      },
      "cell_type": "code",
      "source": [
        "#continious features\n",
        "num_preg = tf.feature_column.numeric_column('Number_pregnant')\n",
        "plasma_gluc = tf.feature_column.numeric_column('Glucose_concentration')\n",
        "dias_press = tf.feature_column.numeric_column('Blood_pressure')\n",
        "tricpe = tf.feature_column.numeric_column('Triceps')\n",
        "insulin = tf.feature_column.numeric_column('Insulin')\n",
        "bmi = tf.feature_column.numeric_column('BMI')\n",
        "diabetes_pedigree = tf.feature_column.numeric_column('Pedigree')\n",
        "age = tf.feature_column.numeric_column('Age')\n"
      ],
      "execution_count": 0,
      "outputs": []
    },
    {
      "metadata": {
        "id": "fPHVIo9K115C",
        "colab_type": "code",
        "colab": {}
      },
      "cell_type": "code",
      "source": [
        "# categorical variables - 2 methods - hash bucket + voacb list\n",
        "\n",
        "#vocab list - easy if less number of features\n",
        "assigned_group = tf.feature_column.categorical_column_with_vocabulary_list('Group', ['A', 'B', 'C', 'D'])"
      ],
      "execution_count": 0,
      "outputs": []
    },
    {
      "metadata": {
        "id": "FVVykbBZ28NG",
        "colab_type": "code",
        "colab": {}
      },
      "cell_type": "code",
      "source": [
        "# hash bucket - hash_bucket_size=max no of features i expect there is\n",
        "assigned_group = tf.feature_column.categorical_column_with_hash_bucket('Group', hash_bucket_size=10)"
      ],
      "execution_count": 0,
      "outputs": []
    },
    {
      "metadata": {
        "id": "J7utjxIP3dHl",
        "colab_type": "code",
        "colab": {}
      },
      "cell_type": "code",
      "source": [
        "import matplotlib.pyplot as plt\n",
        "%matplotlib inline"
      ],
      "execution_count": 0,
      "outputs": []
    },
    {
      "metadata": {
        "id": "eDyvOFkO4Dlm",
        "colab_type": "code",
        "colab": {
          "base_uri": "https://localhost:8080/",
          "height": 283
        },
        "outputId": "ff1d5b2e-5fdf-4289-ce68-4ac1b64233f1"
      },
      "cell_type": "code",
      "source": [
        "diabetes['Age'].hist(bins=10)"
      ],
      "execution_count": 11,
      "outputs": [
        {
          "output_type": "execute_result",
          "data": {
            "text/plain": [
              "<matplotlib.axes._subplots.AxesSubplot at 0x7f63d41bb4a8>"
            ]
          },
          "metadata": {
            "tags": []
          },
          "execution_count": 11
        },
        {
          "output_type": "display_data",
          "data": {
            "image/png": "[encoded data removed]",
            "text/plain": [
              "<Figure size 432x288 with 1 Axes>"
            ]
          },
          "metadata": {
            "tags": []
          }
        }
      ]
    },
    {
      "metadata": {
        "id": "qDIGU1Wg4QGN",
        "colab_type": "code",
        "colab": {}
      },
      "cell_type": "code",
      "source": [
        "#not best every scenario\n",
        "age_bucket = tf.feature_column.bucketized_column(age, boundaries=[20,30,40,50,60,70,80])"
      ],
      "execution_count": 0,
      "outputs": []
    },
    {
      "metadata": {
        "id": "VVXsCLls4rRP",
        "colab_type": "code",
        "colab": {}
      },
      "cell_type": "code",
      "source": [
        "feat_cols = [num_preg, plasma_gluc, dias_press, tricpe, insulin, bmi, diabetes_pedigree, assigned_group, age_bucket]"
      ],
      "execution_count": 0,
      "outputs": []
    },
    {
      "metadata": {
        "id": "t7baYLQI5E0S",
        "colab_type": "code",
        "colab": {}
      },
      "cell_type": "code",
      "source": [
        "# train test splt\n",
        "x_data = diabetes.drop('Class', axis=1)\n",
        "labels = diabetes['Class']\n",
        "\n",
        "from sklearn.model_selection import train_test_split\n",
        "\n",
        "X_train, X_test, y_train, y_test = train_test_split(x_data, labels, test_size=0.3, random_state=101)"
      ],
      "execution_count": 0,
      "outputs": []
    },
    {
      "metadata": {
        "id": "EblapvvO5mVC",
        "colab_type": "code",
        "colab": {}
      },
      "cell_type": "code",
      "source": [
        "input_func = tf.estimator.inputs.pandas_input_fn(x=X_train, y=y_train, batch_size=10, num_epochs=1000, shuffle=True)"
      ],
      "execution_count": 0,
      "outputs": []
    },
    {
      "metadata": {
        "id": "I6bTd9gm6TDg",
        "colab_type": "code",
        "colab": {
          "base_uri": "https://localhost:8080/",
          "height": 202
        },
        "outputId": "3f22a299-aeac-4713-b081-16f4dd591120"
      },
      "cell_type": "code",
      "source": [
        "model = tf.estimator.LinearClassifier(feature_columns=feat_cols, n_classes=2)"
      ],
      "execution_count": 17,
      "outputs": [
        {
          "output_type": "stream",
          "text": [
            "INFO:tensorflow:Using default config.\n",
            "WARNING:tensorflow:Using temporary folder as model directory: /tmp/tmpgqxsx0h9\n",
            "INFO:tensorflow:Using config: {'_model_dir': '/tmp/tmpgqxsx0h9', '_tf_random_seed': None, '_save_summary_steps': 100, '_save_checkpoints_steps': None, '_save_checkpoints_secs': 600, '_session_config': allow_soft_placement: true\n",
            "graph_options {\n",
            "  rewrite_options {\n",
            "    meta_optimizer_iterations: ONE\n",
            "  }\n",
            "}\n",
            ", '_keep_checkpoint_max': 5, '_keep_checkpoint_every_n_hours': 10000, '_log_step_count_steps': 100, '_train_distribute': None, '_device_fn': None, '_protocol': None, '_eval_distribute': None, '_experimental_distribute': None, '_service': None, '_cluster_spec': <tensorflow.python.training.server_lib.ClusterSpec object at 0x7f63d169d9e8>, '_task_type': 'worker', '_task_id': 0, '_global_id_in_cluster': 0, '_master': '', '_evaluation_master': '', '_is_chief': True, '_num_ps_replicas': 0, '_num_worker_replicas': 1}\n"
          ],
          "name": "stdout"
        }
      ]
    },
    {
      "metadata": {
        "id": "ZcPyOdxc6a1W",
        "colab_type": "code",
        "colab": {
          "base_uri": "https://localhost:8080/",
          "height": 735
        },
        "outputId": "06767030-6665-4bfe-db41-d251b4a06e93"
      },
      "cell_type": "code",
      "source": [
        "model.train(input_fn=input_func, steps=1000)"
      ],
      "execution_count": 18,
      "outputs": [
        {
          "output_type": "stream",
          "text": [
            "WARNING:tensorflow:From /usr/local/lib/python3.6/dist-packages/tensorflow/python/estimator/inputs/queues/feeding_queue_runner.py:62: QueueRunner.__init__ (from tensorflow.python.training.queue_runner_impl) is deprecated and will be removed in a future version.\n",
            "Instructions for updating:\n",
            "To construct input pipelines, use the `tf.data` module.\n",
            "WARNING:tensorflow:From /usr/local/lib/python3.6/dist-packages/tensorflow/python/estimator/inputs/queues/feeding_functions.py:500: add_queue_runner (from tensorflow.python.training.queue_runner_impl) is deprecated and will be removed in a future version.\n",
            "Instructions for updating:\n",
            "To construct input pipelines, use the `tf.data` module.\n",
            "INFO:tensorflow:Calling model_fn.\n",
            "INFO:tensorflow:Done calling model_fn.\n",
            "INFO:tensorflow:Create CheckpointSaverHook.\n",
            "INFO:tensorflow:Graph was finalized.\n",
            "INFO:tensorflow:Running local_init_op.\n",
            "INFO:tensorflow:Done running local_init_op.\n",
            "WARNING:tensorflow:From /usr/local/lib/python3.6/dist-packages/tensorflow/python/training/monitored_session.py:804: start_queue_runners (from tensorflow.python.training.queue_runner_impl) is deprecated and will be removed in a future version.\n",
            "Instructions for updating:\n",
            "To construct input pipelines, use the `tf.data` module.\n",
            "INFO:tensorflow:Saving checkpoints for 0 into /tmp/tmpgqxsx0h9/model.ckpt.\n",
            "INFO:tensorflow:loss = 6.931472, step = 0\n",
            "INFO:tensorflow:global_step/sec: 97.9949\n",
            "INFO:tensorflow:loss = 3.3481827, step = 100 (1.025 sec)\n",
            "INFO:tensorflow:global_step/sec: 113.205\n",
            "INFO:tensorflow:loss = 5.848057, step = 200 (0.881 sec)\n",
            "INFO:tensorflow:global_step/sec: 114.578\n",
            "INFO:tensorflow:loss = 8.356453, step = 300 (0.876 sec)\n",
            "INFO:tensorflow:global_step/sec: 115.706\n",
            "INFO:tensorflow:loss = 6.438527, step = 400 (0.864 sec)\n",
            "INFO:tensorflow:global_step/sec: 114.45\n",
            "INFO:tensorflow:loss = 4.961626, step = 500 (0.871 sec)\n",
            "INFO:tensorflow:global_step/sec: 114.365\n",
            "INFO:tensorflow:loss = 6.1245575, step = 600 (0.874 sec)\n",
            "INFO:tensorflow:global_step/sec: 114.332\n",
            "INFO:tensorflow:loss = 6.4832034, step = 700 (0.877 sec)\n",
            "INFO:tensorflow:global_step/sec: 113.121\n",
            "INFO:tensorflow:loss = 3.5979648, step = 800 (0.882 sec)\n",
            "INFO:tensorflow:global_step/sec: 114.268\n",
            "INFO:tensorflow:loss = 4.900637, step = 900 (0.878 sec)\n",
            "INFO:tensorflow:Saving checkpoints for 1000 into /tmp/tmpgqxsx0h9/model.ckpt.\n",
            "INFO:tensorflow:Loss for final step: 4.4190044.\n"
          ],
          "name": "stdout"
        },
        {
          "output_type": "execute_result",
          "data": {
            "text/plain": [
              "<tensorflow.python.estimator.canned.linear.LinearClassifier at 0x7f63d169d6d8>"
            ]
          },
          "metadata": {
            "tags": []
          },
          "execution_count": 18
        }
      ]
    },
    {
      "metadata": {
        "id": "LkXz6eRl6lBj",
        "colab_type": "code",
        "colab": {}
      },
      "cell_type": "code",
      "source": [
        "eval_input_func = tf.estimator.inputs.pandas_input_fn(x=X_test, y=y_test, batch_size=10, num_epochs=1, shuffle=False)"
      ],
      "execution_count": 0,
      "outputs": []
    },
    {
      "metadata": {
        "id": "TRrAndnP64kc",
        "colab_type": "code",
        "colab": {
          "base_uri": "https://localhost:8080/",
          "height": 257
        },
        "outputId": "ae641c75-ee6a-4cce-99da-0e94525d0d26"
      },
      "cell_type": "code",
      "source": [
        "results = model.evaluate(eval_input_func)"
      ],
      "execution_count": 20,
      "outputs": [
        {
          "output_type": "stream",
          "text": [
            "INFO:tensorflow:Calling model_fn.\n",
            "WARNING:tensorflow:Trapezoidal rule is known to produce incorrect PR-AUCs; please switch to \"careful_interpolation\" instead.\n",
            "WARNING:tensorflow:Trapezoidal rule is known to produce incorrect PR-AUCs; please switch to \"careful_interpolation\" instead.\n",
            "INFO:tensorflow:Done calling model_fn.\n",
            "INFO:tensorflow:Starting evaluation at 2019-01-20-11:15:27\n",
            "INFO:tensorflow:Graph was finalized.\n",
            "INFO:tensorflow:Restoring parameters from /tmp/tmpgqxsx0h9/model.ckpt-1000\n",
            "INFO:tensorflow:Running local_init_op.\n",
            "INFO:tensorflow:Done running local_init_op.\n",
            "INFO:tensorflow:Finished evaluation at 2019-01-20-11:15:27\n",
            "INFO:tensorflow:Saving dict for global step 1000: accuracy = 0.74891776, accuracy_baseline = 0.64935064, auc = 0.8031688, auc_precision_recall = 0.65217155, average_loss = 0.5215977, global_step = 1000, label/mean = 0.35064936, loss = 5.0203776, precision = 0.6769231, prediction/mean = 0.35109338, recall = 0.54320985\n",
            "INFO:tensorflow:Saving 'checkpoint_path' summary for global step 1000: /tmp/tmpgqxsx0h9/model.ckpt-1000\n"
          ],
          "name": "stdout"
        }
      ]
    },
    {
      "metadata": {
        "id": "Ol_S9YXi681R",
        "colab_type": "code",
        "colab": {
          "base_uri": "https://localhost:8080/",
          "height": 219
        },
        "outputId": "824aeee2-2f57-4848-a988-a512ff21266e"
      },
      "cell_type": "code",
      "source": [
        "results"
      ],
      "execution_count": 21,
      "outputs": [
        {
          "output_type": "execute_result",
          "data": {
            "text/plain": [
              "{'accuracy': 0.74891776,\n",
              " 'accuracy_baseline': 0.64935064,\n",
              " 'auc': 0.8031688,\n",
              " 'auc_precision_recall': 0.65217155,\n",
              " 'average_loss': 0.5215977,\n",
              " 'global_step': 1000,\n",
              " 'label/mean': 0.35064936,\n",
              " 'loss': 5.0203776,\n",
              " 'precision': 0.6769231,\n",
              " 'prediction/mean': 0.35109338,\n",
              " 'recall': 0.54320985}"
            ]
          },
          "metadata": {
            "tags": []
          },
          "execution_count": 21
        }
      ]
    },
    {
      "metadata": {
        "id": "3VfPO_sg7AmC",
        "colab_type": "code",
        "colab": {}
      },
      "cell_type": "code",
      "source": [
        "#pedictions\n",
        "pred_input_func = tf.estimator.inputs.pandas_input_fn(x=X_test, batch_size=10, num_epochs=1, shuffle=False)"
      ],
      "execution_count": 0,
      "outputs": []
    },
    {
      "metadata": {
        "id": "BzKI-QUY7a5o",
        "colab_type": "code",
        "colab": {}
      },
      "cell_type": "code",
      "source": [
        "predictions = model.predict(pred_input_func)"
      ],
      "execution_count": 0,
      "outputs": []
    },
    {
      "metadata": {
        "id": "8TgBvWmA7nvd",
        "colab_type": "code",
        "colab": {}
      },
      "cell_type": "code",
      "source": [
        "#Dense NN Classifier"
      ],
      "execution_count": 0,
      "outputs": []
    },
    {
      "metadata": {
        "id": "dlSgGXam8OSV",
        "colab_type": "code",
        "colab": {}
      },
      "cell_type": "code",
      "source": [
        "#for dense NN, need to use embedded columns with categorical columns\n",
        "embedded_group_col = tf.feature_column.embedding_column(assigned_group, dimension=4)\n",
        "feat_cols = [num_preg, plasma_gluc, dias_press, tricpe, insulin, bmi, diabetes_pedigree, embedded_group_col, age_bucket]"
      ],
      "execution_count": 0,
      "outputs": []
    },
    {
      "metadata": {
        "id": "rvj1CRNe8a8H",
        "colab_type": "code",
        "colab": {
          "base_uri": "https://localhost:8080/",
          "height": 202
        },
        "outputId": "5924935e-fafe-471d-eee5-852d978a8448"
      },
      "cell_type": "code",
      "source": [
        "dnn_model = tf.estimator.DNNClassifier(hidden_units=[10,10,10], feature_columns=feat_cols, n_classes=2)"
      ],
      "execution_count": 38,
      "outputs": [
        {
          "output_type": "stream",
          "text": [
            "INFO:tensorflow:Using default config.\n",
            "WARNING:tensorflow:Using temporary folder as model directory: /tmp/tmpzh3hs329\n",
            "INFO:tensorflow:Using config: {'_model_dir': '/tmp/tmpzh3hs329', '_tf_random_seed': None, '_save_summary_steps': 100, '_save_checkpoints_steps': None, '_save_checkpoints_secs': 600, '_session_config': allow_soft_placement: true\n",
            "graph_options {\n",
            "  rewrite_options {\n",
            "    meta_optimizer_iterations: ONE\n",
            "  }\n",
            "}\n",
            ", '_keep_checkpoint_max': 5, '_keep_checkpoint_every_n_hours': 10000, '_log_step_count_steps': 100, '_train_distribute': None, '_device_fn': None, '_protocol': None, '_eval_distribute': None, '_experimental_distribute': None, '_service': None, '_cluster_spec': <tensorflow.python.training.server_lib.ClusterSpec object at 0x7f63cfb954a8>, '_task_type': 'worker', '_task_id': 0, '_global_id_in_cluster': 0, '_master': '', '_evaluation_master': '', '_is_chief': True, '_num_ps_replicas': 0, '_num_worker_replicas': 1}\n"
          ],
          "name": "stdout"
        }
      ]
    },
    {
      "metadata": {
        "id": "UKnCRA0u--tg",
        "colab_type": "code",
        "colab": {
          "base_uri": "https://localhost:8080/",
          "height": 550
        },
        "outputId": "086c1668-dc8b-4455-91c8-fae93067a77a"
      },
      "cell_type": "code",
      "source": [
        "dnn_model.train(input_fn=input_func, steps=1000)"
      ],
      "execution_count": 39,
      "outputs": [
        {
          "output_type": "stream",
          "text": [
            "INFO:tensorflow:Calling model_fn.\n",
            "INFO:tensorflow:Done calling model_fn.\n",
            "INFO:tensorflow:Create CheckpointSaverHook.\n",
            "INFO:tensorflow:Graph was finalized.\n",
            "INFO:tensorflow:Running local_init_op.\n",
            "INFO:tensorflow:Done running local_init_op.\n",
            "INFO:tensorflow:Saving checkpoints for 0 into /tmp/tmpzh3hs329/model.ckpt.\n",
            "INFO:tensorflow:loss = 6.92436, step = 0\n",
            "INFO:tensorflow:global_step/sec: 95.0131\n",
            "INFO:tensorflow:loss = 4.3904753, step = 100 (1.054 sec)\n",
            "INFO:tensorflow:global_step/sec: 117.208\n",
            "INFO:tensorflow:loss = 5.443129, step = 200 (0.856 sec)\n",
            "INFO:tensorflow:global_step/sec: 116.263\n",
            "INFO:tensorflow:loss = 7.6100836, step = 300 (0.859 sec)\n",
            "INFO:tensorflow:global_step/sec: 119.19\n",
            "INFO:tensorflow:loss = 6.2186832, step = 400 (0.837 sec)\n",
            "INFO:tensorflow:global_step/sec: 116.359\n",
            "INFO:tensorflow:loss = 5.298856, step = 500 (0.859 sec)\n",
            "INFO:tensorflow:global_step/sec: 117.629\n",
            "INFO:tensorflow:loss = 2.9399343, step = 600 (0.853 sec)\n",
            "INFO:tensorflow:global_step/sec: 117.301\n",
            "INFO:tensorflow:loss = 6.4604855, step = 700 (0.853 sec)\n",
            "INFO:tensorflow:global_step/sec: 117.007\n",
            "INFO:tensorflow:loss = 4.005149, step = 800 (0.855 sec)\n",
            "INFO:tensorflow:global_step/sec: 116.683\n",
            "INFO:tensorflow:loss = 5.704915, step = 900 (0.855 sec)\n",
            "INFO:tensorflow:Saving checkpoints for 1000 into /tmp/tmpzh3hs329/model.ckpt.\n",
            "INFO:tensorflow:Loss for final step: 6.4448195.\n"
          ],
          "name": "stdout"
        },
        {
          "output_type": "execute_result",
          "data": {
            "text/plain": [
              "<tensorflow.python.estimator.canned.dnn.DNNClassifier at 0x7f63cfb95978>"
            ]
          },
          "metadata": {
            "tags": []
          },
          "execution_count": 39
        }
      ]
    },
    {
      "metadata": {
        "id": "pWns-3Y1_Dqh",
        "colab_type": "code",
        "colab": {}
      },
      "cell_type": "code",
      "source": [
        "eval_input_func = tf.estimator.inputs.pandas_input_fn(x=X_test, y=y_test, batch_size=1, num_epochs=1, shuffle=False)"
      ],
      "execution_count": 0,
      "outputs": []
    },
    {
      "metadata": {
        "id": "zgb4PsJF_7fT",
        "colab_type": "code",
        "colab": {
          "base_uri": "https://localhost:8080/",
          "height": 459
        },
        "outputId": "f165f008-9b42-49a6-b323-acde356d8291"
      },
      "cell_type": "code",
      "source": [
        "dnn_model.evaluate(eval_input_func)"
      ],
      "execution_count": 41,
      "outputs": [
        {
          "output_type": "stream",
          "text": [
            "INFO:tensorflow:Calling model_fn.\n",
            "WARNING:tensorflow:Trapezoidal rule is known to produce incorrect PR-AUCs; please switch to \"careful_interpolation\" instead.\n",
            "WARNING:tensorflow:Trapezoidal rule is known to produce incorrect PR-AUCs; please switch to \"careful_interpolation\" instead.\n",
            "INFO:tensorflow:Done calling model_fn.\n",
            "INFO:tensorflow:Starting evaluation at 2019-01-20-11:24:49\n",
            "INFO:tensorflow:Graph was finalized.\n",
            "INFO:tensorflow:Restoring parameters from /tmp/tmpzh3hs329/model.ckpt-1000\n",
            "INFO:tensorflow:Running local_init_op.\n",
            "INFO:tensorflow:Done running local_init_op.\n",
            "INFO:tensorflow:Finished evaluation at 2019-01-20-11:24:51\n",
            "INFO:tensorflow:Saving dict for global step 1000: accuracy = 0.7316017, accuracy_baseline = 0.64935064, auc = 0.82189304, auc_precision_recall = 0.6698431, average_loss = 0.5354446, global_step = 1000, label/mean = 0.35064936, loss = 0.5354446, precision = 0.58715594, prediction/mean = 0.45586398, recall = 0.79012346\n",
            "INFO:tensorflow:Saving 'checkpoint_path' summary for global step 1000: /tmp/tmpzh3hs329/model.ckpt-1000\n"
          ],
          "name": "stdout"
        },
        {
          "output_type": "execute_result",
          "data": {
            "text/plain": [
              "{'accuracy': 0.7316017,\n",
              " 'accuracy_baseline': 0.64935064,\n",
              " 'auc': 0.82189304,\n",
              " 'auc_precision_recall': 0.6698431,\n",
              " 'average_loss': 0.5354446,\n",
              " 'global_step': 1000,\n",
              " 'label/mean': 0.35064936,\n",
              " 'loss': 0.5354446,\n",
              " 'precision': 0.58715594,\n",
              " 'prediction/mean': 0.45586398,\n",
              " 'recall': 0.79012346}"
            ]
          },
          "metadata": {
            "tags": []
          },
          "execution_count": 41
        }
      ]
    },
    {
      "metadata": {
        "id": "sIxYfw5ZAEp_",
        "colab_type": "code",
        "colab": {}
      },
      "cell_type": "code",
      "source": [
        ""
      ],
      "execution_count": 0,
      "outputs": []
    }
  ]
}