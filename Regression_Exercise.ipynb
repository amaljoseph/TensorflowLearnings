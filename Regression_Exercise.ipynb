{
  "nbformat": 4,
  "nbformat_minor": 0,
  "metadata": {
    "colab": {
      "name": "06-Regression-Exercise.ipynb",
      "version": "0.3.2",
      "provenance": [],
      "include_colab_link": true
    },
    "kernelspec": {
      "name": "python3",
      "display_name": "Python 3"
    },
    "accelerator": "GPU"
  },
  "cells": [
    {
      "cell_type": "markdown",
      "metadata": {
        "id": "view-in-github",
        "colab_type": "text"
      },
      "source": [
        "<a href=\"https://colab.research.google.com/github/amaljoseph/TensorflowLearnings/blob/master/Regression_Exercise.ipynb\" target=\"_parent\"><img src=\"https://colab.research.google.com/assets/colab-badge.svg\" alt=\"Open In Colab\"/></a>"
      ]
    },
    {
      "metadata": {
        "id": "-KLro3B855my",
        "colab_type": "text"
      },
      "cell_type": "markdown",
      "source": [
        "# Regression Exercise \n",
        "\n",
        "California Housing Data\n",
        "\n",
        "This data set contains information about all the block groups in California from the 1990 Census. In this sample a block group on average includes 1425.5 individuals living in a geographically compact area. \n",
        "\n",
        "The task is to aproximate the median house value of each block from the values of the rest of the variables. \n",
        "\n",
        " It has been obtained from the LIACC repository. The original page where the data set can be found is: http://www.liaad.up.pt/~ltorgo/Regression/DataSets.html.\n",
        " "
      ]
    },
    {
      "metadata": {
        "collapsed": true,
        "id": "WJPpjXuC55ne",
        "colab_type": "text"
      },
      "cell_type": "markdown",
      "source": [
        "The Features:\n",
        " \n",
        "* housingMedianAge: continuous. \n",
        "* totalRooms: continuous. \n",
        "* totalBedrooms: continuous. \n",
        "* population: continuous. \n",
        "* households: continuous. \n",
        "* medianIncome: continuous. \n",
        "* medianHouseValue: continuous. "
      ]
    },
    {
      "metadata": {
        "id": "pXOxjQ6N55n5",
        "colab_type": "text"
      },
      "cell_type": "markdown",
      "source": [
        "## The Data"
      ]
    },
    {
      "metadata": {
        "id": "128alxZq55od",
        "colab_type": "text"
      },
      "cell_type": "markdown",
      "source": [
        "** Import the cal_housing_clean.csv file with pandas. Separate it into a training (70%) and testing set(30%).**"
      ]
    },
    {
      "metadata": {
        "id": "8dsTmvb955or",
        "colab_type": "code",
        "colab": {}
      },
      "cell_type": "code",
      "source": [
        "import pandas as pd"
      ],
      "execution_count": 0,
      "outputs": []
    },
    {
      "metadata": {
        "id": "YOuhooZV55ps",
        "colab_type": "code",
        "colab": {}
      },
      "cell_type": "code",
      "source": [
        "housing = pd.read_csv('cal_housing_clean.csv')"
      ],
      "execution_count": 0,
      "outputs": []
    },
    {
      "metadata": {
        "id": "9SQxQVEc55q9",
        "colab_type": "code",
        "outputId": "553048a0-55df-4f85-b03d-03315a6bdcff",
        "colab": {
          "base_uri": "https://localhost:8080/",
          "height": 206
        }
      },
      "cell_type": "code",
      "source": [
        "housing.head()"
      ],
      "execution_count": 29,
      "outputs": [
        {
          "output_type": "execute_result",
          "data": {
            "text/html": [
              "<div>\n",
              "<style scoped>\n",
              "    .dataframe tbody tr th:only-of-type {\n",
              "        vertical-align: middle;\n",
              "    }\n",
              "\n",
              "    .dataframe tbody tr th {\n",
              "        vertical-align: top;\n",
              "    }\n",
              "\n",
              "    .dataframe thead th {\n",
              "        text-align: right;\n",
              "    }\n",
              "</style>\n",
              "<table border=\"1\" class=\"dataframe\">\n",
              "  <thead>\n",
              "    <tr style=\"text-align: right;\">\n",
              "      <th></th>\n",
              "      <th>housingMedianAge</th>\n",
              "      <th>totalRooms</th>\n",
              "      <th>totalBedrooms</th>\n",
              "      <th>population</th>\n",
              "      <th>households</th>\n",
              "      <th>medianIncome</th>\n",
              "      <th>medianHouseValue</th>\n",
              "    </tr>\n",
              "  </thead>\n",
              "  <tbody>\n",
              "    <tr>\n",
              "      <th>0</th>\n",
              "      <td>41.0</td>\n",
              "      <td>880.0</td>\n",
              "      <td>129.0</td>\n",
              "      <td>322.0</td>\n",
              "      <td>126.0</td>\n",
              "      <td>8.3252</td>\n",
              "      <td>452600.0</td>\n",
              "    </tr>\n",
              "    <tr>\n",
              "      <th>1</th>\n",
              "      <td>21.0</td>\n",
              "      <td>7099.0</td>\n",
              "      <td>1106.0</td>\n",
              "      <td>2401.0</td>\n",
              "      <td>1138.0</td>\n",
              "      <td>8.3014</td>\n",
              "      <td>358500.0</td>\n",
              "    </tr>\n",
              "    <tr>\n",
              "      <th>2</th>\n",
              "      <td>52.0</td>\n",
              "      <td>1467.0</td>\n",
              "      <td>190.0</td>\n",
              "      <td>496.0</td>\n",
              "      <td>177.0</td>\n",
              "      <td>7.2574</td>\n",
              "      <td>352100.0</td>\n",
              "    </tr>\n",
              "    <tr>\n",
              "      <th>3</th>\n",
              "      <td>52.0</td>\n",
              "      <td>1274.0</td>\n",
              "      <td>235.0</td>\n",
              "      <td>558.0</td>\n",
              "      <td>219.0</td>\n",
              "      <td>5.6431</td>\n",
              "      <td>341300.0</td>\n",
              "    </tr>\n",
              "    <tr>\n",
              "      <th>4</th>\n",
              "      <td>52.0</td>\n",
              "      <td>1627.0</td>\n",
              "      <td>280.0</td>\n",
              "      <td>565.0</td>\n",
              "      <td>259.0</td>\n",
              "      <td>3.8462</td>\n",
              "      <td>342200.0</td>\n",
              "    </tr>\n",
              "  </tbody>\n",
              "</table>\n",
              "</div>"
            ],
            "text/plain": [
              "   housingMedianAge  totalRooms  totalBedrooms  population  households  \\\n",
              "0              41.0       880.0          129.0       322.0       126.0   \n",
              "1              21.0      7099.0         1106.0      2401.0      1138.0   \n",
              "2              52.0      1467.0          190.0       496.0       177.0   \n",
              "3              52.0      1274.0          235.0       558.0       219.0   \n",
              "4              52.0      1627.0          280.0       565.0       259.0   \n",
              "\n",
              "   medianIncome  medianHouseValue  \n",
              "0        8.3252          452600.0  \n",
              "1        8.3014          358500.0  \n",
              "2        7.2574          352100.0  \n",
              "3        5.6431          341300.0  \n",
              "4        3.8462          342200.0  "
            ]
          },
          "metadata": {
            "tags": []
          },
          "execution_count": 29
        }
      ]
    },
    {
      "metadata": {
        "id": "MlwwgBkO55r1",
        "colab_type": "code",
        "outputId": "02e45525-eb35-4052-b5cf-456e8c79ec43",
        "colab": {
          "base_uri": "https://localhost:8080/",
          "height": 269
        }
      },
      "cell_type": "code",
      "source": [
        "housing.describe().transpose()"
      ],
      "execution_count": 30,
      "outputs": [
        {
          "output_type": "execute_result",
          "data": {
            "text/html": [
              "<div>\n",
              "<style scoped>\n",
              "    .dataframe tbody tr th:only-of-type {\n",
              "        vertical-align: middle;\n",
              "    }\n",
              "\n",
              "    .dataframe tbody tr th {\n",
              "        vertical-align: top;\n",
              "    }\n",
              "\n",
              "    .dataframe thead th {\n",
              "        text-align: right;\n",
              "    }\n",
              "</style>\n",
              "<table border=\"1\" class=\"dataframe\">\n",
              "  <thead>\n",
              "    <tr style=\"text-align: right;\">\n",
              "      <th></th>\n",
              "      <th>count</th>\n",
              "      <th>mean</th>\n",
              "      <th>std</th>\n",
              "      <th>min</th>\n",
              "      <th>25%</th>\n",
              "      <th>50%</th>\n",
              "      <th>75%</th>\n",
              "      <th>max</th>\n",
              "    </tr>\n",
              "  </thead>\n",
              "  <tbody>\n",
              "    <tr>\n",
              "      <th>housingMedianAge</th>\n",
              "      <td>20640.0</td>\n",
              "      <td>28.639486</td>\n",
              "      <td>12.585558</td>\n",
              "      <td>1.0000</td>\n",
              "      <td>18.0000</td>\n",
              "      <td>29.0000</td>\n",
              "      <td>37.00000</td>\n",
              "      <td>52.0000</td>\n",
              "    </tr>\n",
              "    <tr>\n",
              "      <th>totalRooms</th>\n",
              "      <td>20640.0</td>\n",
              "      <td>2635.763081</td>\n",
              "      <td>2181.615252</td>\n",
              "      <td>2.0000</td>\n",
              "      <td>1447.7500</td>\n",
              "      <td>2127.0000</td>\n",
              "      <td>3148.00000</td>\n",
              "      <td>39320.0000</td>\n",
              "    </tr>\n",
              "    <tr>\n",
              "      <th>totalBedrooms</th>\n",
              "      <td>20640.0</td>\n",
              "      <td>537.898014</td>\n",
              "      <td>421.247906</td>\n",
              "      <td>1.0000</td>\n",
              "      <td>295.0000</td>\n",
              "      <td>435.0000</td>\n",
              "      <td>647.00000</td>\n",
              "      <td>6445.0000</td>\n",
              "    </tr>\n",
              "    <tr>\n",
              "      <th>population</th>\n",
              "      <td>20640.0</td>\n",
              "      <td>1425.476744</td>\n",
              "      <td>1132.462122</td>\n",
              "      <td>3.0000</td>\n",
              "      <td>787.0000</td>\n",
              "      <td>1166.0000</td>\n",
              "      <td>1725.00000</td>\n",
              "      <td>35682.0000</td>\n",
              "    </tr>\n",
              "    <tr>\n",
              "      <th>households</th>\n",
              "      <td>20640.0</td>\n",
              "      <td>499.539680</td>\n",
              "      <td>382.329753</td>\n",
              "      <td>1.0000</td>\n",
              "      <td>280.0000</td>\n",
              "      <td>409.0000</td>\n",
              "      <td>605.00000</td>\n",
              "      <td>6082.0000</td>\n",
              "    </tr>\n",
              "    <tr>\n",
              "      <th>medianIncome</th>\n",
              "      <td>20640.0</td>\n",
              "      <td>3.870671</td>\n",
              "      <td>1.899822</td>\n",
              "      <td>0.4999</td>\n",
              "      <td>2.5634</td>\n",
              "      <td>3.5348</td>\n",
              "      <td>4.74325</td>\n",
              "      <td>15.0001</td>\n",
              "    </tr>\n",
              "    <tr>\n",
              "      <th>medianHouseValue</th>\n",
              "      <td>20640.0</td>\n",
              "      <td>206855.816909</td>\n",
              "      <td>115395.615874</td>\n",
              "      <td>14999.0000</td>\n",
              "      <td>119600.0000</td>\n",
              "      <td>179700.0000</td>\n",
              "      <td>264725.00000</td>\n",
              "      <td>500001.0000</td>\n",
              "    </tr>\n",
              "  </tbody>\n",
              "</table>\n",
              "</div>"
            ],
            "text/plain": [
              "                    count           mean            std         min  \\\n",
              "housingMedianAge  20640.0      28.639486      12.585558      1.0000   \n",
              "totalRooms        20640.0    2635.763081    2181.615252      2.0000   \n",
              "totalBedrooms     20640.0     537.898014     421.247906      1.0000   \n",
              "population        20640.0    1425.476744    1132.462122      3.0000   \n",
              "households        20640.0     499.539680     382.329753      1.0000   \n",
              "medianIncome      20640.0       3.870671       1.899822      0.4999   \n",
              "medianHouseValue  20640.0  206855.816909  115395.615874  14999.0000   \n",
              "\n",
              "                          25%          50%           75%          max  \n",
              "housingMedianAge      18.0000      29.0000      37.00000      52.0000  \n",
              "totalRooms          1447.7500    2127.0000    3148.00000   39320.0000  \n",
              "totalBedrooms        295.0000     435.0000     647.00000    6445.0000  \n",
              "population           787.0000    1166.0000    1725.00000   35682.0000  \n",
              "households           280.0000     409.0000     605.00000    6082.0000  \n",
              "medianIncome           2.5634       3.5348       4.74325      15.0001  \n",
              "medianHouseValue  119600.0000  179700.0000  264725.00000  500001.0000  "
            ]
          },
          "metadata": {
            "tags": []
          },
          "execution_count": 30
        }
      ]
    },
    {
      "metadata": {
        "id": "GFg9ebrI7-ii",
        "colab_type": "code",
        "colab": {}
      },
      "cell_type": "code",
      "source": [
        "x = housing.drop('medianHouseValue', axis=1)\n",
        "y = housing['medianHouseValue']"
      ],
      "execution_count": 0,
      "outputs": []
    },
    {
      "metadata": {
        "id": "m6lkWaPY7kiW",
        "colab_type": "code",
        "colab": {}
      },
      "cell_type": "code",
      "source": [
        "from sklearn.model_selection import train_test_split"
      ],
      "execution_count": 0,
      "outputs": []
    },
    {
      "metadata": {
        "id": "VX0cCLRQ7uaW",
        "colab_type": "code",
        "colab": {}
      },
      "cell_type": "code",
      "source": [
        "X_train, X_test, y_train, y_test = train_test_split(x, y, test_size=0.3, random_state=101)"
      ],
      "execution_count": 0,
      "outputs": []
    },
    {
      "metadata": {
        "id": "rFTM-8T955uE",
        "colab_type": "text"
      },
      "cell_type": "markdown",
      "source": [
        "### Scale the Feature Data\n",
        "\n",
        "** Use sklearn preprocessing to create a MinMaxScaler for the feature data. Fit this scaler only to the training data. Then use it to transform X_test and X_train. Then use the scaled X_test and X_train along with pd.Dataframe to re-create two dataframes of scaled data.**"
      ]
    },
    {
      "metadata": {
        "id": "iMUV5g9X55uh",
        "colab_type": "code",
        "colab": {}
      },
      "cell_type": "code",
      "source": [
        "from sklearn.preprocessing import MinMaxScaler"
      ],
      "execution_count": 0,
      "outputs": []
    },
    {
      "metadata": {
        "id": "3gfkGMQ-55uy",
        "colab_type": "code",
        "colab": {}
      },
      "cell_type": "code",
      "source": [
        "scaler = MinMaxScaler()"
      ],
      "execution_count": 0,
      "outputs": []
    },
    {
      "metadata": {
        "id": "NyXgIm0b55vL",
        "colab_type": "code",
        "colab": {
          "base_uri": "https://localhost:8080/",
          "height": 35
        },
        "outputId": "a422e173-75ed-45f5-f339-d610f7f17fd9"
      },
      "cell_type": "code",
      "source": [
        "scaler.fit(X_train)"
      ],
      "execution_count": 36,
      "outputs": [
        {
          "output_type": "execute_result",
          "data": {
            "text/plain": [
              "MinMaxScaler(copy=True, feature_range=(0, 1))"
            ]
          },
          "metadata": {
            "tags": []
          },
          "execution_count": 36
        }
      ]
    },
    {
      "metadata": {
        "id": "4UcKUklt55uM",
        "colab_type": "code",
        "colab": {}
      },
      "cell_type": "code",
      "source": [
        "X_train = pd.DataFrame(data=scaler.transform(X_train), columns=X_train.columns, index=X_train.index)"
      ],
      "execution_count": 0,
      "outputs": []
    },
    {
      "metadata": {
        "id": "ebBNpMsd55vh",
        "colab_type": "code",
        "colab": {}
      },
      "cell_type": "code",
      "source": [
        "X_test= pd.DataFrame(data=scaler.transform(X_test), columns=X_test.columns, index=X_test.index)"
      ],
      "execution_count": 0,
      "outputs": []
    },
    {
      "metadata": {
        "id": "dAw6SXXz55vv",
        "colab_type": "text"
      },
      "cell_type": "markdown",
      "source": [
        "### Create Feature Columns\n",
        "\n",
        "** Create the necessary tf.feature_column objects for the estimator. They should all be trated as continuous numeric_columns. **"
      ]
    },
    {
      "metadata": {
        "id": "Cx1owajQ55v3",
        "colab_type": "code",
        "outputId": "7438fcfb-0abf-4d5f-92a9-19ccd1b19a5b",
        "colab": {
          "base_uri": "https://localhost:8080/",
          "height": 72
        }
      },
      "cell_type": "code",
      "source": [
        "housing.columns"
      ],
      "execution_count": 39,
      "outputs": [
        {
          "output_type": "execute_result",
          "data": {
            "text/plain": [
              "Index(['housingMedianAge', 'totalRooms', 'totalBedrooms', 'population',\n",
              "       'households', 'medianIncome', 'medianHouseValue'],\n",
              "      dtype='object')"
            ]
          },
          "metadata": {
            "tags": []
          },
          "execution_count": 39
        }
      ]
    },
    {
      "metadata": {
        "id": "mkzziV1s55wM",
        "colab_type": "code",
        "colab": {}
      },
      "cell_type": "code",
      "source": [
        "import tensorflow as tf"
      ],
      "execution_count": 0,
      "outputs": []
    },
    {
      "metadata": {
        "id": "ZvZrnss455wu",
        "colab_type": "code",
        "colab": {}
      },
      "cell_type": "code",
      "source": [
        "age = tf.feature_column.numeric_column('housingMedianAge')\n",
        "rooms = tf.feature_column.numeric_column('totalRooms')\n",
        "bedrooms = tf.feature_column.numeric_column('population')\n",
        "households = tf.feature_column.numeric_column('households')\n",
        "income = tf.feature_column.numeric_column('medianIncome')"
      ],
      "execution_count": 0,
      "outputs": []
    },
    {
      "metadata": {
        "id": "g2ty31ZZ55xL",
        "colab_type": "code",
        "colab": {}
      },
      "cell_type": "code",
      "source": [
        "feat_cols = [age, rooms, bedrooms, households, income]"
      ],
      "execution_count": 0,
      "outputs": []
    },
    {
      "metadata": {
        "id": "hPlrXTvz55xa",
        "colab_type": "text"
      },
      "cell_type": "markdown",
      "source": [
        "** Create the input function for the estimator object. (play around with batch_size and num_epochs)**"
      ]
    },
    {
      "metadata": {
        "id": "f9CPJWn555xi",
        "colab_type": "code",
        "colab": {}
      },
      "cell_type": "code",
      "source": [
        "input_func = tf.estimator.inputs.pandas_input_fn(x=X_train, y=y_train, num_epochs=1000, batch_size=10, shuffle=True)"
      ],
      "execution_count": 0,
      "outputs": []
    },
    {
      "metadata": {
        "id": "QPS5UoQS55x7",
        "colab_type": "text"
      },
      "cell_type": "markdown",
      "source": [
        "** Create the estimator model. Use a DNNRegressor. Play around with the hidden units! **"
      ]
    },
    {
      "metadata": {
        "id": "uuetb9Zy55yB",
        "colab_type": "code",
        "outputId": "dba244eb-2a33-4149-c85c-5a65f2237922",
        "colab": {
          "base_uri": "https://localhost:8080/",
          "height": 202
        }
      },
      "cell_type": "code",
      "source": [
        "model = tf.estimator.DNNRegressor(hidden_units=[6,6,6], feature_columns=feat_cols)"
      ],
      "execution_count": 45,
      "outputs": [
        {
          "output_type": "stream",
          "text": [
            "INFO:tensorflow:Using default config.\n",
            "WARNING:tensorflow:Using temporary folder as model directory: /tmp/tmpk114z401\n",
            "INFO:tensorflow:Using config: {'_model_dir': '/tmp/tmpk114z401', '_tf_random_seed': None, '_save_summary_steps': 100, '_save_checkpoints_steps': None, '_save_checkpoints_secs': 600, '_session_config': allow_soft_placement: true\n",
            "graph_options {\n",
            "  rewrite_options {\n",
            "    meta_optimizer_iterations: ONE\n",
            "  }\n",
            "}\n",
            ", '_keep_checkpoint_max': 5, '_keep_checkpoint_every_n_hours': 10000, '_log_step_count_steps': 100, '_train_distribute': None, '_device_fn': None, '_protocol': None, '_eval_distribute': None, '_experimental_distribute': None, '_service': None, '_cluster_spec': <tensorflow.python.training.server_lib.ClusterSpec object at 0x7f6209a9be10>, '_task_type': 'worker', '_task_id': 0, '_global_id_in_cluster': 0, '_master': '', '_evaluation_master': '', '_is_chief': True, '_num_ps_replicas': 0, '_num_worker_replicas': 1}\n"
          ],
          "name": "stdout"
        }
      ]
    },
    {
      "metadata": {
        "id": "3QvWDrLP55yV",
        "colab_type": "text"
      },
      "cell_type": "markdown",
      "source": [
        "##### ** Train the model for ~1,000 steps. (Later come back to this and train it for more and check for improvement) **"
      ]
    },
    {
      "metadata": {
        "id": "hN8ZS4Pl55yb",
        "colab_type": "code",
        "outputId": "0e45a2d7-63df-4b8e-8db7-eecd565c7a6e",
        "colab": {
          "base_uri": "https://localhost:8080/",
          "height": 9551
        }
      },
      "cell_type": "code",
      "source": [
        "model.train(input_func, steps=25000)"
      ],
      "execution_count": 46,
      "outputs": [
        {
          "output_type": "stream",
          "text": [
            "WARNING:tensorflow:From /usr/local/lib/python3.6/dist-packages/tensorflow/python/estimator/inputs/queues/feeding_queue_runner.py:62: QueueRunner.__init__ (from tensorflow.python.training.queue_runner_impl) is deprecated and will be removed in a future version.\n",
            "Instructions for updating:\n",
            "To construct input pipelines, use the `tf.data` module.\n",
            "WARNING:tensorflow:From /usr/local/lib/python3.6/dist-packages/tensorflow/python/estimator/inputs/queues/feeding_functions.py:500: add_queue_runner (from tensorflow.python.training.queue_runner_impl) is deprecated and will be removed in a future version.\n",
            "Instructions for updating:\n",
            "To construct input pipelines, use the `tf.data` module.\n",
            "INFO:tensorflow:Calling model_fn.\n",
            "INFO:tensorflow:Done calling model_fn.\n",
            "INFO:tensorflow:Create CheckpointSaverHook.\n",
            "INFO:tensorflow:Graph was finalized.\n",
            "INFO:tensorflow:Running local_init_op.\n",
            "INFO:tensorflow:Done running local_init_op.\n",
            "WARNING:tensorflow:From /usr/local/lib/python3.6/dist-packages/tensorflow/python/training/monitored_session.py:804: start_queue_runners (from tensorflow.python.training.queue_runner_impl) is deprecated and will be removed in a future version.\n",
            "Instructions for updating:\n",
            "To construct input pipelines, use the `tf.data` module.\n",
            "INFO:tensorflow:Saving checkpoints for 0 into /tmp/tmpk114z401/model.ckpt.\n",
            "INFO:tensorflow:loss = 323391600000.0, step = 0\n",
            "INFO:tensorflow:global_step/sec: 208.475\n",
            "INFO:tensorflow:loss = 468057700000.0, step = 100 (0.481 sec)\n",
            "INFO:tensorflow:global_step/sec: 238.033\n",
            "INFO:tensorflow:loss = 686515360000.0, step = 200 (0.421 sec)\n",
            "INFO:tensorflow:global_step/sec: 224.294\n",
            "INFO:tensorflow:loss = 565671600000.0, step = 300 (0.447 sec)\n",
            "INFO:tensorflow:global_step/sec: 242.275\n",
            "INFO:tensorflow:loss = 559343100000.0, step = 400 (0.414 sec)\n",
            "INFO:tensorflow:global_step/sec: 233.635\n",
            "INFO:tensorflow:loss = 387919250000.0, step = 500 (0.425 sec)\n",
            "INFO:tensorflow:global_step/sec: 229.364\n",
            "INFO:tensorflow:loss = 539279900000.0, step = 600 (0.437 sec)\n",
            "INFO:tensorflow:global_step/sec: 234.28\n",
            "INFO:tensorflow:loss = 348879520000.0, step = 700 (0.429 sec)\n",
            "INFO:tensorflow:global_step/sec: 226.674\n",
            "INFO:tensorflow:loss = 222859980000.0, step = 800 (0.442 sec)\n",
            "INFO:tensorflow:global_step/sec: 232.145\n",
            "INFO:tensorflow:loss = 227073700000.0, step = 900 (0.428 sec)\n",
            "INFO:tensorflow:global_step/sec: 231.153\n",
            "INFO:tensorflow:loss = 138467920000.0, step = 1000 (0.432 sec)\n",
            "INFO:tensorflow:global_step/sec: 230.183\n",
            "INFO:tensorflow:loss = 150033140000.0, step = 1100 (0.438 sec)\n",
            "INFO:tensorflow:global_step/sec: 233.614\n",
            "INFO:tensorflow:loss = 492351620000.0, step = 1200 (0.425 sec)\n",
            "INFO:tensorflow:global_step/sec: 222.16\n",
            "INFO:tensorflow:loss = 275445550000.0, step = 1300 (0.453 sec)\n",
            "INFO:tensorflow:global_step/sec: 229.087\n",
            "INFO:tensorflow:loss = 283525780000.0, step = 1400 (0.437 sec)\n",
            "INFO:tensorflow:global_step/sec: 224.956\n",
            "INFO:tensorflow:loss = 10377165000.0, step = 1500 (0.444 sec)\n",
            "INFO:tensorflow:global_step/sec: 231.749\n",
            "INFO:tensorflow:loss = 289514460000.0, step = 1600 (0.428 sec)\n",
            "INFO:tensorflow:global_step/sec: 231.515\n",
            "INFO:tensorflow:loss = 20571728000.0, step = 1700 (0.432 sec)\n",
            "INFO:tensorflow:global_step/sec: 223.651\n",
            "INFO:tensorflow:loss = 151882600000.0, step = 1800 (0.451 sec)\n",
            "INFO:tensorflow:global_step/sec: 238.038\n",
            "INFO:tensorflow:loss = 139603640000.0, step = 1900 (0.419 sec)\n",
            "INFO:tensorflow:global_step/sec: 229.431\n",
            "INFO:tensorflow:loss = 135751250000.0, step = 2000 (0.436 sec)\n",
            "INFO:tensorflow:global_step/sec: 236.411\n",
            "INFO:tensorflow:loss = 29582447000.0, step = 2100 (0.421 sec)\n",
            "INFO:tensorflow:global_step/sec: 231.004\n",
            "INFO:tensorflow:loss = 93679560000.0, step = 2200 (0.432 sec)\n",
            "INFO:tensorflow:global_step/sec: 233.667\n",
            "INFO:tensorflow:loss = 86265830000.0, step = 2300 (0.428 sec)\n",
            "INFO:tensorflow:global_step/sec: 229.665\n",
            "INFO:tensorflow:loss = 89853210000.0, step = 2400 (0.440 sec)\n",
            "INFO:tensorflow:global_step/sec: 238.22\n",
            "INFO:tensorflow:loss = 90259830000.0, step = 2500 (0.419 sec)\n",
            "INFO:tensorflow:global_step/sec: 228.565\n",
            "INFO:tensorflow:loss = 152647900000.0, step = 2600 (0.437 sec)\n",
            "INFO:tensorflow:global_step/sec: 227.742\n",
            "INFO:tensorflow:loss = 86973320000.0, step = 2700 (0.438 sec)\n",
            "INFO:tensorflow:global_step/sec: 237.091\n",
            "INFO:tensorflow:loss = 214367520000.0, step = 2800 (0.422 sec)\n",
            "INFO:tensorflow:global_step/sec: 228.984\n",
            "INFO:tensorflow:loss = 111714890000.0, step = 2900 (0.437 sec)\n",
            "INFO:tensorflow:global_step/sec: 233.691\n",
            "INFO:tensorflow:loss = 131940336000.0, step = 3000 (0.425 sec)\n",
            "INFO:tensorflow:global_step/sec: 233.407\n",
            "INFO:tensorflow:loss = 58408140000.0, step = 3100 (0.436 sec)\n",
            "INFO:tensorflow:global_step/sec: 230.214\n",
            "INFO:tensorflow:loss = 87735100000.0, step = 3200 (0.429 sec)\n",
            "INFO:tensorflow:global_step/sec: 235.814\n",
            "INFO:tensorflow:loss = 180752940000.0, step = 3300 (0.424 sec)\n",
            "INFO:tensorflow:global_step/sec: 231.018\n",
            "INFO:tensorflow:loss = 40986767000.0, step = 3400 (0.433 sec)\n",
            "INFO:tensorflow:global_step/sec: 232.165\n",
            "INFO:tensorflow:loss = 116726055000.0, step = 3500 (0.430 sec)\n",
            "INFO:tensorflow:global_step/sec: 229.211\n",
            "INFO:tensorflow:loss = 69355160000.0, step = 3600 (0.434 sec)\n",
            "INFO:tensorflow:global_step/sec: 234.643\n",
            "INFO:tensorflow:loss = 115471060000.0, step = 3700 (0.429 sec)\n",
            "INFO:tensorflow:global_step/sec: 234.619\n",
            "INFO:tensorflow:loss = 69506580000.0, step = 3800 (0.427 sec)\n",
            "INFO:tensorflow:global_step/sec: 225.934\n",
            "INFO:tensorflow:loss = 80728285000.0, step = 3900 (0.439 sec)\n",
            "INFO:tensorflow:global_step/sec: 237.038\n",
            "INFO:tensorflow:loss = 180964520000.0, step = 4000 (0.425 sec)\n",
            "INFO:tensorflow:global_step/sec: 232.089\n",
            "INFO:tensorflow:loss = 105322815000.0, step = 4100 (0.428 sec)\n",
            "INFO:tensorflow:global_step/sec: 226.263\n",
            "INFO:tensorflow:loss = 132494930000.0, step = 4200 (0.444 sec)\n",
            "INFO:tensorflow:global_step/sec: 225.719\n",
            "INFO:tensorflow:loss = 102322040000.0, step = 4300 (0.445 sec)\n",
            "INFO:tensorflow:global_step/sec: 228.543\n",
            "INFO:tensorflow:loss = 141822950000.0, step = 4400 (0.437 sec)\n",
            "INFO:tensorflow:global_step/sec: 242.281\n",
            "INFO:tensorflow:loss = 99527300000.0, step = 4500 (0.413 sec)\n",
            "INFO:tensorflow:global_step/sec: 223.553\n",
            "INFO:tensorflow:loss = 46297727000.0, step = 4600 (0.446 sec)\n",
            "INFO:tensorflow:global_step/sec: 234.965\n",
            "INFO:tensorflow:loss = 73353720000.0, step = 4700 (0.427 sec)\n",
            "INFO:tensorflow:global_step/sec: 233.573\n",
            "INFO:tensorflow:loss = 96138960000.0, step = 4800 (0.428 sec)\n",
            "INFO:tensorflow:global_step/sec: 235.377\n",
            "INFO:tensorflow:loss = 85146600000.0, step = 4900 (0.424 sec)\n",
            "INFO:tensorflow:global_step/sec: 233.455\n",
            "INFO:tensorflow:loss = 86704770000.0, step = 5000 (0.428 sec)\n",
            "INFO:tensorflow:global_step/sec: 225.274\n",
            "INFO:tensorflow:loss = 80762410000.0, step = 5100 (0.444 sec)\n",
            "INFO:tensorflow:global_step/sec: 237.734\n",
            "INFO:tensorflow:loss = 175094270000.0, step = 5200 (0.421 sec)\n",
            "INFO:tensorflow:global_step/sec: 231.752\n",
            "INFO:tensorflow:loss = 68600775000.0, step = 5300 (0.432 sec)\n",
            "INFO:tensorflow:global_step/sec: 235.775\n",
            "INFO:tensorflow:loss = 137704870000.0, step = 5400 (0.420 sec)\n",
            "INFO:tensorflow:global_step/sec: 238.816\n",
            "INFO:tensorflow:loss = 194168490000.0, step = 5500 (0.419 sec)\n",
            "INFO:tensorflow:global_step/sec: 237.567\n",
            "INFO:tensorflow:loss = 134808560000.0, step = 5600 (0.425 sec)\n",
            "INFO:tensorflow:global_step/sec: 242.163\n",
            "INFO:tensorflow:loss = 49353597000.0, step = 5700 (0.413 sec)\n",
            "INFO:tensorflow:global_step/sec: 233.136\n",
            "INFO:tensorflow:loss = 103684770000.0, step = 5800 (0.429 sec)\n",
            "INFO:tensorflow:global_step/sec: 233.607\n",
            "INFO:tensorflow:loss = 117845150000.0, step = 5900 (0.428 sec)\n",
            "INFO:tensorflow:global_step/sec: 228.123\n",
            "INFO:tensorflow:loss = 86432840000.0, step = 6000 (0.436 sec)\n",
            "INFO:tensorflow:global_step/sec: 234.418\n",
            "INFO:tensorflow:loss = 60098638000.0, step = 6100 (0.429 sec)\n",
            "INFO:tensorflow:global_step/sec: 237.867\n",
            "INFO:tensorflow:loss = 67046300000.0, step = 6200 (0.418 sec)\n",
            "INFO:tensorflow:global_step/sec: 228.698\n",
            "INFO:tensorflow:loss = 108897100000.0, step = 6300 (0.442 sec)\n",
            "INFO:tensorflow:global_step/sec: 233.794\n",
            "INFO:tensorflow:loss = 122521320000.0, step = 6400 (0.427 sec)\n",
            "INFO:tensorflow:global_step/sec: 222.946\n",
            "INFO:tensorflow:loss = 99378120000.0, step = 6500 (0.447 sec)\n",
            "INFO:tensorflow:global_step/sec: 233.084\n",
            "INFO:tensorflow:loss = 144087380000.0, step = 6600 (0.429 sec)\n",
            "INFO:tensorflow:global_step/sec: 231.502\n",
            "INFO:tensorflow:loss = 41225020000.0, step = 6700 (0.431 sec)\n",
            "INFO:tensorflow:global_step/sec: 239.571\n",
            "INFO:tensorflow:loss = 72039920000.0, step = 6800 (0.419 sec)\n",
            "INFO:tensorflow:global_step/sec: 229.659\n",
            "INFO:tensorflow:loss = 72889730000.0, step = 6900 (0.438 sec)\n",
            "INFO:tensorflow:global_step/sec: 226.262\n",
            "INFO:tensorflow:loss = 60263383000.0, step = 7000 (0.437 sec)\n",
            "INFO:tensorflow:global_step/sec: 234.336\n",
            "INFO:tensorflow:loss = 100254160000.0, step = 7100 (0.428 sec)\n",
            "INFO:tensorflow:global_step/sec: 232.44\n",
            "INFO:tensorflow:loss = 86957710000.0, step = 7200 (0.433 sec)\n",
            "INFO:tensorflow:global_step/sec: 232.371\n",
            "INFO:tensorflow:loss = 94235280000.0, step = 7300 (0.428 sec)\n",
            "INFO:tensorflow:global_step/sec: 233.216\n",
            "INFO:tensorflow:loss = 82974830000.0, step = 7400 (0.427 sec)\n",
            "INFO:tensorflow:global_step/sec: 229.903\n",
            "INFO:tensorflow:loss = 83039290000.0, step = 7500 (0.437 sec)\n",
            "INFO:tensorflow:global_step/sec: 232.795\n",
            "INFO:tensorflow:loss = 135344690000.0, step = 7600 (0.428 sec)\n",
            "INFO:tensorflow:global_step/sec: 223.706\n",
            "INFO:tensorflow:loss = 109124510000.0, step = 7700 (0.449 sec)\n",
            "INFO:tensorflow:global_step/sec: 241.657\n",
            "INFO:tensorflow:loss = 71787620000.0, step = 7800 (0.411 sec)\n",
            "INFO:tensorflow:global_step/sec: 227.593\n",
            "INFO:tensorflow:loss = 165631820000.0, step = 7900 (0.443 sec)\n",
            "INFO:tensorflow:global_step/sec: 236.454\n",
            "INFO:tensorflow:loss = 54113510000.0, step = 8000 (0.423 sec)\n",
            "INFO:tensorflow:global_step/sec: 240.563\n",
            "INFO:tensorflow:loss = 41210495000.0, step = 8100 (0.413 sec)\n",
            "INFO:tensorflow:global_step/sec: 230.182\n",
            "INFO:tensorflow:loss = 30535274000.0, step = 8200 (0.437 sec)\n",
            "INFO:tensorflow:global_step/sec: 237.312\n",
            "INFO:tensorflow:loss = 71335640000.0, step = 8300 (0.420 sec)\n",
            "INFO:tensorflow:global_step/sec: 228.655\n",
            "INFO:tensorflow:loss = 70355720000.0, step = 8400 (0.435 sec)\n",
            "INFO:tensorflow:global_step/sec: 240.324\n",
            "INFO:tensorflow:loss = 84346280000.0, step = 8500 (0.418 sec)\n",
            "INFO:tensorflow:global_step/sec: 230.481\n",
            "INFO:tensorflow:loss = 79564640000.0, step = 8600 (0.436 sec)\n",
            "INFO:tensorflow:global_step/sec: 235.315\n",
            "INFO:tensorflow:loss = 124840250000.0, step = 8700 (0.423 sec)\n",
            "INFO:tensorflow:global_step/sec: 238.189\n",
            "INFO:tensorflow:loss = 150918170000.0, step = 8800 (0.425 sec)\n",
            "INFO:tensorflow:global_step/sec: 223.618\n",
            "INFO:tensorflow:loss = 151118480000.0, step = 8900 (0.440 sec)\n",
            "INFO:tensorflow:global_step/sec: 236.411\n",
            "INFO:tensorflow:loss = 96586990000.0, step = 9000 (0.423 sec)\n",
            "INFO:tensorflow:global_step/sec: 226.239\n",
            "INFO:tensorflow:loss = 134660400000.0, step = 9100 (0.442 sec)\n",
            "INFO:tensorflow:global_step/sec: 235.645\n",
            "INFO:tensorflow:loss = 95553440000.0, step = 9200 (0.427 sec)\n",
            "INFO:tensorflow:global_step/sec: 230.647\n",
            "INFO:tensorflow:loss = 24591112000.0, step = 9300 (0.432 sec)\n",
            "INFO:tensorflow:global_step/sec: 226.97\n",
            "INFO:tensorflow:loss = 73234210000.0, step = 9400 (0.442 sec)\n",
            "INFO:tensorflow:global_step/sec: 227.264\n",
            "INFO:tensorflow:loss = 69607950000.0, step = 9500 (0.440 sec)\n",
            "INFO:tensorflow:global_step/sec: 209.894\n",
            "INFO:tensorflow:loss = 121426380000.0, step = 9600 (0.474 sec)\n",
            "INFO:tensorflow:global_step/sec: 220.783\n",
            "INFO:tensorflow:loss = 63518515000.0, step = 9700 (0.455 sec)\n",
            "INFO:tensorflow:global_step/sec: 215.748\n",
            "INFO:tensorflow:loss = 63958462000.0, step = 9800 (0.461 sec)\n",
            "INFO:tensorflow:global_step/sec: 226.05\n",
            "INFO:tensorflow:loss = 129554235000.0, step = 9900 (0.445 sec)\n",
            "INFO:tensorflow:global_step/sec: 219.777\n",
            "INFO:tensorflow:loss = 85716700000.0, step = 10000 (0.457 sec)\n",
            "INFO:tensorflow:global_step/sec: 222.008\n",
            "INFO:tensorflow:loss = 102668280000.0, step = 10100 (0.450 sec)\n",
            "INFO:tensorflow:global_step/sec: 222.117\n",
            "INFO:tensorflow:loss = 88883280000.0, step = 10200 (0.451 sec)\n",
            "INFO:tensorflow:global_step/sec: 215.846\n",
            "INFO:tensorflow:loss = 158473340000.0, step = 10300 (0.463 sec)\n",
            "INFO:tensorflow:global_step/sec: 221.33\n",
            "INFO:tensorflow:loss = 65081570000.0, step = 10400 (0.451 sec)\n",
            "INFO:tensorflow:global_step/sec: 216.122\n",
            "INFO:tensorflow:loss = 69604600000.0, step = 10500 (0.460 sec)\n",
            "INFO:tensorflow:global_step/sec: 223.233\n",
            "INFO:tensorflow:loss = 71982390000.0, step = 10600 (0.451 sec)\n",
            "INFO:tensorflow:global_step/sec: 231.769\n",
            "INFO:tensorflow:loss = 173349440000.0, step = 10700 (0.432 sec)\n",
            "INFO:tensorflow:global_step/sec: 239.347\n",
            "INFO:tensorflow:loss = 139790580000.0, step = 10800 (0.416 sec)\n",
            "INFO:tensorflow:global_step/sec: 229.541\n",
            "INFO:tensorflow:loss = 47224360000.0, step = 10900 (0.437 sec)\n",
            "INFO:tensorflow:global_step/sec: 227.339\n",
            "INFO:tensorflow:loss = 188816460000.0, step = 11000 (0.440 sec)\n",
            "INFO:tensorflow:global_step/sec: 235.45\n",
            "INFO:tensorflow:loss = 121420240000.0, step = 11100 (0.426 sec)\n",
            "INFO:tensorflow:global_step/sec: 228.871\n",
            "INFO:tensorflow:loss = 57611715000.0, step = 11200 (0.436 sec)\n",
            "INFO:tensorflow:global_step/sec: 224.53\n",
            "INFO:tensorflow:loss = 155713450000.0, step = 11300 (0.446 sec)\n",
            "INFO:tensorflow:global_step/sec: 231.495\n",
            "INFO:tensorflow:loss = 139528110000.0, step = 11400 (0.432 sec)\n",
            "INFO:tensorflow:global_step/sec: 229.99\n",
            "INFO:tensorflow:loss = 73314755000.0, step = 11500 (0.435 sec)\n",
            "INFO:tensorflow:global_step/sec: 228.069\n",
            "INFO:tensorflow:loss = 28075016000.0, step = 11600 (0.436 sec)\n",
            "INFO:tensorflow:global_step/sec: 229.059\n",
            "INFO:tensorflow:loss = 75714494000.0, step = 11700 (0.440 sec)\n",
            "INFO:tensorflow:global_step/sec: 238.56\n",
            "INFO:tensorflow:loss = 113121714000.0, step = 11800 (0.421 sec)\n",
            "INFO:tensorflow:global_step/sec: 224.593\n",
            "INFO:tensorflow:loss = 93269760000.0, step = 11900 (0.444 sec)\n",
            "INFO:tensorflow:global_step/sec: 237.897\n",
            "INFO:tensorflow:loss = 124756510000.0, step = 12000 (0.420 sec)\n",
            "INFO:tensorflow:global_step/sec: 237.955\n",
            "INFO:tensorflow:loss = 44431725000.0, step = 12100 (0.416 sec)\n",
            "INFO:tensorflow:global_step/sec: 234.698\n",
            "INFO:tensorflow:loss = 38638320000.0, step = 12200 (0.429 sec)\n",
            "INFO:tensorflow:global_step/sec: 233.383\n",
            "INFO:tensorflow:loss = 56499528000.0, step = 12300 (0.426 sec)\n",
            "INFO:tensorflow:global_step/sec: 226.565\n",
            "INFO:tensorflow:loss = 49476084000.0, step = 12400 (0.445 sec)\n",
            "INFO:tensorflow:global_step/sec: 232.494\n",
            "INFO:tensorflow:loss = 77429375000.0, step = 12500 (0.429 sec)\n",
            "INFO:tensorflow:global_step/sec: 229.418\n",
            "INFO:tensorflow:loss = 102371150000.0, step = 12600 (0.433 sec)\n",
            "INFO:tensorflow:global_step/sec: 239.743\n",
            "INFO:tensorflow:loss = 191188170000.0, step = 12700 (0.421 sec)\n",
            "INFO:tensorflow:global_step/sec: 238.351\n",
            "INFO:tensorflow:loss = 168593330000.0, step = 12800 (0.419 sec)\n",
            "INFO:tensorflow:global_step/sec: 232.016\n",
            "INFO:tensorflow:loss = 90999530000.0, step = 12900 (0.431 sec)\n",
            "INFO:tensorflow:global_step/sec: 230.402\n",
            "INFO:tensorflow:loss = 60202670000.0, step = 13000 (0.433 sec)\n",
            "INFO:tensorflow:global_step/sec: 227.311\n",
            "INFO:tensorflow:loss = 104628960000.0, step = 13100 (0.440 sec)\n",
            "INFO:tensorflow:global_step/sec: 238.966\n",
            "INFO:tensorflow:loss = 146979240000.0, step = 13200 (0.416 sec)\n",
            "INFO:tensorflow:global_step/sec: 212.523\n",
            "INFO:tensorflow:loss = 149262040000.0, step = 13300 (0.472 sec)\n",
            "INFO:tensorflow:global_step/sec: 233.884\n",
            "INFO:tensorflow:loss = 126943650000.0, step = 13400 (0.430 sec)\n",
            "INFO:tensorflow:global_step/sec: 231.934\n",
            "INFO:tensorflow:loss = 100182410000.0, step = 13500 (0.432 sec)\n",
            "INFO:tensorflow:global_step/sec: 230.195\n",
            "INFO:tensorflow:loss = 73107560000.0, step = 13600 (0.435 sec)\n",
            "INFO:tensorflow:global_step/sec: 236.476\n",
            "INFO:tensorflow:loss = 142081700000.0, step = 13700 (0.421 sec)\n",
            "INFO:tensorflow:global_step/sec: 230.691\n",
            "INFO:tensorflow:loss = 102499670000.0, step = 13800 (0.431 sec)\n",
            "INFO:tensorflow:global_step/sec: 236.481\n",
            "INFO:tensorflow:loss = 79079236000.0, step = 13900 (0.424 sec)\n",
            "INFO:tensorflow:global_step/sec: 235.915\n",
            "INFO:tensorflow:loss = 40926510000.0, step = 14000 (0.423 sec)\n",
            "INFO:tensorflow:global_step/sec: 231.422\n",
            "INFO:tensorflow:loss = 241758780000.0, step = 14100 (0.435 sec)\n",
            "INFO:tensorflow:global_step/sec: 229.953\n",
            "INFO:tensorflow:loss = 119854890000.0, step = 14200 (0.435 sec)\n",
            "INFO:tensorflow:global_step/sec: 229.673\n",
            "INFO:tensorflow:loss = 120078900000.0, step = 14300 (0.435 sec)\n",
            "INFO:tensorflow:global_step/sec: 231.855\n",
            "INFO:tensorflow:loss = 90611130000.0, step = 14400 (0.431 sec)\n",
            "INFO:tensorflow:global_step/sec: 223.76\n",
            "INFO:tensorflow:loss = 109605620000.0, step = 14500 (0.443 sec)\n",
            "INFO:tensorflow:global_step/sec: 234.674\n",
            "INFO:tensorflow:loss = 102089425000.0, step = 14600 (0.429 sec)\n",
            "INFO:tensorflow:global_step/sec: 237.262\n",
            "INFO:tensorflow:loss = 57899210000.0, step = 14700 (0.420 sec)\n",
            "INFO:tensorflow:global_step/sec: 229.936\n",
            "INFO:tensorflow:loss = 92196520000.0, step = 14800 (0.435 sec)\n",
            "INFO:tensorflow:global_step/sec: 232.573\n",
            "INFO:tensorflow:loss = 49330754000.0, step = 14900 (0.431 sec)\n",
            "INFO:tensorflow:global_step/sec: 235.092\n",
            "INFO:tensorflow:loss = 62200766000.0, step = 15000 (0.425 sec)\n",
            "INFO:tensorflow:global_step/sec: 239.071\n",
            "INFO:tensorflow:loss = 67082105000.0, step = 15100 (0.416 sec)\n",
            "INFO:tensorflow:global_step/sec: 230.483\n",
            "INFO:tensorflow:loss = 74744810000.0, step = 15200 (0.437 sec)\n",
            "INFO:tensorflow:global_step/sec: 231.93\n",
            "INFO:tensorflow:loss = 103715030000.0, step = 15300 (0.430 sec)\n",
            "INFO:tensorflow:global_step/sec: 230.168\n",
            "INFO:tensorflow:loss = 94671540000.0, step = 15400 (0.433 sec)\n",
            "INFO:tensorflow:global_step/sec: 229.737\n",
            "INFO:tensorflow:loss = 103264944000.0, step = 15500 (0.437 sec)\n",
            "INFO:tensorflow:global_step/sec: 230.953\n",
            "INFO:tensorflow:loss = 48180457000.0, step = 15600 (0.434 sec)\n",
            "INFO:tensorflow:global_step/sec: 229.53\n",
            "INFO:tensorflow:loss = 105239710000.0, step = 15700 (0.436 sec)\n",
            "INFO:tensorflow:global_step/sec: 234.311\n",
            "INFO:tensorflow:loss = 239697360000.0, step = 15800 (0.426 sec)\n",
            "INFO:tensorflow:global_step/sec: 230.442\n",
            "INFO:tensorflow:loss = 90561585000.0, step = 15900 (0.434 sec)\n",
            "INFO:tensorflow:global_step/sec: 227.989\n",
            "INFO:tensorflow:loss = 62921500000.0, step = 16000 (0.439 sec)\n",
            "INFO:tensorflow:global_step/sec: 229.751\n",
            "INFO:tensorflow:loss = 79334830000.0, step = 16100 (0.435 sec)\n",
            "INFO:tensorflow:global_step/sec: 229.259\n",
            "INFO:tensorflow:loss = 151545040000.0, step = 16200 (0.436 sec)\n",
            "INFO:tensorflow:global_step/sec: 235.65\n",
            "INFO:tensorflow:loss = 32158695000.0, step = 16300 (0.424 sec)\n",
            "INFO:tensorflow:global_step/sec: 226.243\n",
            "INFO:tensorflow:loss = 46172340000.0, step = 16400 (0.439 sec)\n",
            "INFO:tensorflow:global_step/sec: 225.559\n",
            "INFO:tensorflow:loss = 93069660000.0, step = 16500 (0.446 sec)\n",
            "INFO:tensorflow:global_step/sec: 233.719\n",
            "INFO:tensorflow:loss = 85407334000.0, step = 16600 (0.428 sec)\n",
            "INFO:tensorflow:global_step/sec: 229.367\n",
            "INFO:tensorflow:loss = 266766840000.0, step = 16700 (0.435 sec)\n",
            "INFO:tensorflow:global_step/sec: 232.986\n",
            "INFO:tensorflow:loss = 70229280000.0, step = 16800 (0.428 sec)\n",
            "INFO:tensorflow:global_step/sec: 232.783\n",
            "INFO:tensorflow:loss = 115433415000.0, step = 16900 (0.431 sec)\n",
            "INFO:tensorflow:global_step/sec: 237.13\n",
            "INFO:tensorflow:loss = 92970844000.0, step = 17000 (0.422 sec)\n",
            "INFO:tensorflow:global_step/sec: 231.301\n",
            "INFO:tensorflow:loss = 75616800000.0, step = 17100 (0.429 sec)\n",
            "INFO:tensorflow:global_step/sec: 235.661\n",
            "INFO:tensorflow:loss = 48399753000.0, step = 17200 (0.427 sec)\n",
            "INFO:tensorflow:global_step/sec: 234.028\n",
            "INFO:tensorflow:loss = 72100725000.0, step = 17300 (0.428 sec)\n",
            "INFO:tensorflow:global_step/sec: 229.115\n",
            "INFO:tensorflow:loss = 94262900000.0, step = 17400 (0.437 sec)\n",
            "INFO:tensorflow:global_step/sec: 232.978\n",
            "INFO:tensorflow:loss = 84976755000.0, step = 17500 (0.426 sec)\n",
            "INFO:tensorflow:global_step/sec: 227.225\n",
            "INFO:tensorflow:loss = 54748045000.0, step = 17600 (0.442 sec)\n",
            "INFO:tensorflow:global_step/sec: 239.064\n",
            "INFO:tensorflow:loss = 155191100000.0, step = 17700 (0.419 sec)\n",
            "INFO:tensorflow:global_step/sec: 238.123\n",
            "INFO:tensorflow:loss = 65105834000.0, step = 17800 (0.420 sec)\n",
            "INFO:tensorflow:global_step/sec: 228.656\n",
            "INFO:tensorflow:loss = 57364280000.0, step = 17900 (0.438 sec)\n",
            "INFO:tensorflow:global_step/sec: 233.099\n",
            "INFO:tensorflow:loss = 78056050000.0, step = 18000 (0.426 sec)\n",
            "INFO:tensorflow:global_step/sec: 220.918\n",
            "INFO:tensorflow:loss = 68828090000.0, step = 18100 (0.455 sec)\n",
            "INFO:tensorflow:global_step/sec: 236.91\n",
            "INFO:tensorflow:loss = 154564230000.0, step = 18200 (0.418 sec)\n",
            "INFO:tensorflow:global_step/sec: 230.312\n",
            "INFO:tensorflow:loss = 199522570000.0, step = 18300 (0.438 sec)\n",
            "INFO:tensorflow:global_step/sec: 232.936\n",
            "INFO:tensorflow:loss = 95599200000.0, step = 18400 (0.427 sec)\n",
            "INFO:tensorflow:global_step/sec: 231.229\n",
            "INFO:tensorflow:loss = 59334492000.0, step = 18500 (0.435 sec)\n",
            "INFO:tensorflow:global_step/sec: 229.348\n",
            "INFO:tensorflow:loss = 178027130000.0, step = 18600 (0.436 sec)\n",
            "INFO:tensorflow:global_step/sec: 234.987\n",
            "INFO:tensorflow:loss = 134899650000.0, step = 18700 (0.426 sec)\n",
            "INFO:tensorflow:global_step/sec: 224.597\n",
            "INFO:tensorflow:loss = 88876060000.0, step = 18800 (0.442 sec)\n",
            "INFO:tensorflow:global_step/sec: 232.901\n",
            "INFO:tensorflow:loss = 63005377000.0, step = 18900 (0.429 sec)\n",
            "INFO:tensorflow:global_step/sec: 227.81\n",
            "INFO:tensorflow:loss = 123963780000.0, step = 19000 (0.444 sec)\n",
            "INFO:tensorflow:global_step/sec: 230.555\n",
            "INFO:tensorflow:loss = 129318890000.0, step = 19100 (0.429 sec)\n",
            "INFO:tensorflow:global_step/sec: 235.989\n",
            "INFO:tensorflow:loss = 60218150000.0, step = 19200 (0.426 sec)\n",
            "INFO:tensorflow:global_step/sec: 228.556\n",
            "INFO:tensorflow:loss = 125071160000.0, step = 19300 (0.438 sec)\n",
            "INFO:tensorflow:global_step/sec: 230.78\n",
            "INFO:tensorflow:loss = 85950960000.0, step = 19400 (0.433 sec)\n",
            "INFO:tensorflow:global_step/sec: 229.692\n",
            "INFO:tensorflow:loss = 94483930000.0, step = 19500 (0.432 sec)\n",
            "INFO:tensorflow:global_step/sec: 238.072\n",
            "INFO:tensorflow:loss = 137970970000.0, step = 19600 (0.424 sec)\n",
            "INFO:tensorflow:global_step/sec: 237.858\n",
            "INFO:tensorflow:loss = 166202110000.0, step = 19700 (0.421 sec)\n",
            "INFO:tensorflow:global_step/sec: 221.939\n",
            "INFO:tensorflow:loss = 128180670000.0, step = 19800 (0.450 sec)\n",
            "INFO:tensorflow:global_step/sec: 236.336\n",
            "INFO:tensorflow:loss = 92072030000.0, step = 19900 (0.421 sec)\n",
            "INFO:tensorflow:global_step/sec: 231.064\n",
            "INFO:tensorflow:loss = 150232500000.0, step = 20000 (0.432 sec)\n",
            "INFO:tensorflow:global_step/sec: 234.036\n",
            "INFO:tensorflow:loss = 160755320000.0, step = 20100 (0.428 sec)\n",
            "INFO:tensorflow:global_step/sec: 230.821\n",
            "INFO:tensorflow:loss = 167481790000.0, step = 20200 (0.436 sec)\n",
            "INFO:tensorflow:global_step/sec: 235.869\n",
            "INFO:tensorflow:loss = 52556694000.0, step = 20300 (0.425 sec)\n",
            "INFO:tensorflow:global_step/sec: 234.993\n",
            "INFO:tensorflow:loss = 104714396000.0, step = 20400 (0.423 sec)\n",
            "INFO:tensorflow:global_step/sec: 222.513\n",
            "INFO:tensorflow:loss = 105169840000.0, step = 20500 (0.451 sec)\n",
            "INFO:tensorflow:global_step/sec: 234.892\n",
            "INFO:tensorflow:loss = 77368440000.0, step = 20600 (0.422 sec)\n",
            "INFO:tensorflow:global_step/sec: 229.552\n",
            "INFO:tensorflow:loss = 108082580000.0, step = 20700 (0.439 sec)\n",
            "INFO:tensorflow:global_step/sec: 233.646\n",
            "INFO:tensorflow:loss = 90763450000.0, step = 20800 (0.425 sec)\n",
            "INFO:tensorflow:global_step/sec: 227.645\n",
            "INFO:tensorflow:loss = 71905000000.0, step = 20900 (0.439 sec)\n",
            "INFO:tensorflow:global_step/sec: 230.344\n",
            "INFO:tensorflow:loss = 46778080000.0, step = 21000 (0.434 sec)\n",
            "INFO:tensorflow:global_step/sec: 236.677\n",
            "INFO:tensorflow:loss = 34295697000.0, step = 21100 (0.423 sec)\n",
            "INFO:tensorflow:global_step/sec: 232.838\n",
            "INFO:tensorflow:loss = 95111240000.0, step = 21200 (0.433 sec)\n",
            "INFO:tensorflow:global_step/sec: 234.639\n",
            "INFO:tensorflow:loss = 268455020000.0, step = 21300 (0.423 sec)\n",
            "INFO:tensorflow:global_step/sec: 228.671\n",
            "INFO:tensorflow:loss = 174709280000.0, step = 21400 (0.437 sec)\n",
            "INFO:tensorflow:global_step/sec: 235.227\n",
            "INFO:tensorflow:loss = 64400507000.0, step = 21500 (0.428 sec)\n",
            "INFO:tensorflow:global_step/sec: 230.206\n",
            "INFO:tensorflow:loss = 121279046000.0, step = 21600 (0.434 sec)\n",
            "INFO:tensorflow:global_step/sec: 228.922\n",
            "INFO:tensorflow:loss = 53158195000.0, step = 21700 (0.436 sec)\n",
            "INFO:tensorflow:global_step/sec: 237.46\n",
            "INFO:tensorflow:loss = 24217276000.0, step = 21800 (0.422 sec)\n",
            "INFO:tensorflow:global_step/sec: 226.923\n",
            "INFO:tensorflow:loss = 144272820000.0, step = 21900 (0.438 sec)\n",
            "INFO:tensorflow:global_step/sec: 235.504\n",
            "INFO:tensorflow:loss = 142266270000.0, step = 22000 (0.427 sec)\n",
            "INFO:tensorflow:global_step/sec: 232.53\n",
            "INFO:tensorflow:loss = 88425490000.0, step = 22100 (0.430 sec)\n",
            "INFO:tensorflow:global_step/sec: 231.958\n",
            "INFO:tensorflow:loss = 49844300000.0, step = 22200 (0.431 sec)\n",
            "INFO:tensorflow:global_step/sec: 229.873\n",
            "INFO:tensorflow:loss = 61460110000.0, step = 22300 (0.433 sec)\n",
            "INFO:tensorflow:global_step/sec: 234.913\n",
            "INFO:tensorflow:loss = 131850805000.0, step = 22400 (0.428 sec)\n",
            "INFO:tensorflow:global_step/sec: 231.239\n",
            "INFO:tensorflow:loss = 72104034000.0, step = 22500 (0.430 sec)\n",
            "INFO:tensorflow:global_step/sec: 224.873\n",
            "INFO:tensorflow:loss = 129204530000.0, step = 22600 (0.444 sec)\n",
            "INFO:tensorflow:global_step/sec: 235.258\n",
            "INFO:tensorflow:loss = 89837930000.0, step = 22700 (0.428 sec)\n",
            "INFO:tensorflow:global_step/sec: 235.243\n",
            "INFO:tensorflow:loss = 43126374000.0, step = 22800 (0.426 sec)\n",
            "INFO:tensorflow:global_step/sec: 223.315\n",
            "INFO:tensorflow:loss = 176894020000.0, step = 22900 (0.447 sec)\n",
            "INFO:tensorflow:global_step/sec: 233.661\n",
            "INFO:tensorflow:loss = 80413970000.0, step = 23000 (0.428 sec)\n",
            "INFO:tensorflow:global_step/sec: 231.513\n",
            "INFO:tensorflow:loss = 121598680000.0, step = 23100 (0.432 sec)\n",
            "INFO:tensorflow:global_step/sec: 240.296\n",
            "INFO:tensorflow:loss = 91176970000.0, step = 23200 (0.414 sec)\n",
            "INFO:tensorflow:global_step/sec: 236.445\n",
            "INFO:tensorflow:loss = 68668342000.0, step = 23300 (0.424 sec)\n",
            "INFO:tensorflow:global_step/sec: 235.811\n",
            "INFO:tensorflow:loss = 126489380000.0, step = 23400 (0.425 sec)\n",
            "INFO:tensorflow:global_step/sec: 225.082\n",
            "INFO:tensorflow:loss = 51127538000.0, step = 23500 (0.444 sec)\n",
            "INFO:tensorflow:global_step/sec: 227.263\n",
            "INFO:tensorflow:loss = 15896494000.0, step = 23600 (0.440 sec)\n",
            "INFO:tensorflow:global_step/sec: 232.919\n",
            "INFO:tensorflow:loss = 164870930000.0, step = 23700 (0.430 sec)\n",
            "INFO:tensorflow:global_step/sec: 227.708\n",
            "INFO:tensorflow:loss = 115978200000.0, step = 23800 (0.439 sec)\n",
            "INFO:tensorflow:global_step/sec: 232.569\n",
            "INFO:tensorflow:loss = 235945640000.0, step = 23900 (0.429 sec)\n",
            "INFO:tensorflow:global_step/sec: 238.706\n",
            "INFO:tensorflow:loss = 93342690000.0, step = 24000 (0.422 sec)\n",
            "INFO:tensorflow:global_step/sec: 225.272\n",
            "INFO:tensorflow:loss = 54176113000.0, step = 24100 (0.438 sec)\n",
            "INFO:tensorflow:global_step/sec: 229.138\n",
            "INFO:tensorflow:loss = 100970865000.0, step = 24200 (0.439 sec)\n",
            "INFO:tensorflow:global_step/sec: 228.29\n",
            "INFO:tensorflow:loss = 129606330000.0, step = 24300 (0.436 sec)\n",
            "INFO:tensorflow:global_step/sec: 240.195\n",
            "INFO:tensorflow:loss = 101328340000.0, step = 24400 (0.419 sec)\n",
            "INFO:tensorflow:global_step/sec: 230.749\n",
            "INFO:tensorflow:loss = 82888500000.0, step = 24500 (0.430 sec)\n",
            "INFO:tensorflow:global_step/sec: 230.136\n",
            "INFO:tensorflow:loss = 48173590000.0, step = 24600 (0.436 sec)\n",
            "INFO:tensorflow:global_step/sec: 231.137\n",
            "INFO:tensorflow:loss = 83017950000.0, step = 24700 (0.434 sec)\n",
            "INFO:tensorflow:global_step/sec: 224.497\n",
            "INFO:tensorflow:loss = 226034160000.0, step = 24800 (0.445 sec)\n",
            "INFO:tensorflow:global_step/sec: 235.952\n",
            "INFO:tensorflow:loss = 77920500000.0, step = 24900 (0.423 sec)\n",
            "INFO:tensorflow:Saving checkpoints for 25000 into /tmp/tmpk114z401/model.ckpt.\n",
            "INFO:tensorflow:Loss for final step: 94644860000.0.\n"
          ],
          "name": "stdout"
        },
        {
          "output_type": "execute_result",
          "data": {
            "text/plain": [
              "<tensorflow.python.estimator.canned.dnn.DNNRegressor at 0x7f6209a9bba8>"
            ]
          },
          "metadata": {
            "tags": []
          },
          "execution_count": 46
        }
      ]
    },
    {
      "metadata": {
        "id": "h94dO-jD55yr",
        "colab_type": "text"
      },
      "cell_type": "markdown",
      "source": [
        "** Create a prediction input function and then use the .predict method off your estimator model to create a list or predictions on your test data. **"
      ]
    },
    {
      "metadata": {
        "id": "6iYOKrCH55yv",
        "colab_type": "code",
        "colab": {}
      },
      "cell_type": "code",
      "source": [
        "predict_input_func = tf.estimator.inputs.pandas_input_fn(x=X_test, y=y_test, batch_size=10, num_epochs=1, shuffle=False)"
      ],
      "execution_count": 0,
      "outputs": []
    },
    {
      "metadata": {
        "id": "s1kUFC7W55y8",
        "colab_type": "code",
        "colab": {}
      },
      "cell_type": "code",
      "source": [
        "pred_gen = model.predict(predict_input_func)"
      ],
      "execution_count": 0,
      "outputs": []
    },
    {
      "metadata": {
        "id": "vTBxz23P55zI",
        "colab_type": "code",
        "outputId": "031aa155-1a90-4a08-9ae1-bfb8d2ed14a8",
        "colab": {
          "base_uri": "https://localhost:8080/",
          "height": 127
        }
      },
      "cell_type": "code",
      "source": [
        "predictions = list(pred_gen)"
      ],
      "execution_count": 50,
      "outputs": [
        {
          "output_type": "stream",
          "text": [
            "INFO:tensorflow:Calling model_fn.\n",
            "INFO:tensorflow:Done calling model_fn.\n",
            "INFO:tensorflow:Graph was finalized.\n",
            "INFO:tensorflow:Restoring parameters from /tmp/tmpk114z401/model.ckpt-25000\n",
            "INFO:tensorflow:Running local_init_op.\n",
            "INFO:tensorflow:Done running local_init_op.\n"
          ],
          "name": "stdout"
        }
      ]
    },
    {
      "metadata": {
        "id": "mxboz3F_55ze",
        "colab_type": "text"
      },
      "cell_type": "markdown",
      "source": [
        "** Calculate the RMSE. You should be able to get around 100,000 RMSE (remember that this is in the same units as the label.) Do this manually or use [sklearn.metrics](http://scikit-learn.org/stable/modules/generated/sklearn.metrics.mean_squared_error.html) **"
      ]
    },
    {
      "metadata": {
        "id": "NzBwTfzw55zh",
        "colab_type": "code",
        "colab": {}
      },
      "cell_type": "code",
      "source": [
        "final_pred = []\n",
        "for pred in predictions:\n",
        "  final_pred.append(pred['predictions'])"
      ],
      "execution_count": 0,
      "outputs": []
    },
    {
      "metadata": {
        "id": "jTND_-AJ55zr",
        "colab_type": "code",
        "colab": {}
      },
      "cell_type": "code",
      "source": [
        "from sklearn.metrics import mean_squared_error"
      ],
      "execution_count": 0,
      "outputs": []
    },
    {
      "metadata": {
        "id": "9meP14Dd55z0",
        "colab_type": "code",
        "outputId": "2c849ad6-4c76-40c6-859a-5dbc69196188",
        "colab": {
          "base_uri": "https://localhost:8080/",
          "height": 35
        }
      },
      "cell_type": "code",
      "source": [
        "mean_squared_error(y_test, final_pred)**0.5"
      ],
      "execution_count": 53,
      "outputs": [
        {
          "output_type": "execute_result",
          "data": {
            "text/plain": [
              "97023.6925942015"
            ]
          },
          "metadata": {
            "tags": []
          },
          "execution_count": 53
        }
      ]
    },
    {
      "metadata": {
        "id": "3JDE_u5n550A",
        "colab_type": "text"
      },
      "cell_type": "markdown",
      "source": [
        "# Great Job!"
      ]
    }
  ]
}