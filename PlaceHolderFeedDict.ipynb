{
  "nbformat": 4,
  "nbformat_minor": 0,
  "metadata": {
    "colab": {
      "name": "PlaceHolderFeedDict.ipynb",
      "version": "0.3.2",
      "provenance": [],
      "collapsed_sections": [],
      "include_colab_link": true
    },
    "kernelspec": {
      "name": "python3",
      "display_name": "Python 3"
    }
  },
  "cells": [
    {
      "cell_type": "markdown",
      "metadata": {
        "id": "view-in-github",
        "colab_type": "text"
      },
      "source": [
        "<a href=\"https://colab.research.google.com/github/amaljoseph/TensorflowLearnings/blob/master/PlaceHolderFeedDict.ipynb\" target=\"_parent\"><img src=\"https://colab.research.google.com/assets/colab-badge.svg\" alt=\"Open In Colab\"/></a>"
      ]
    },
    {
      "metadata": {
        "id": "LvpoLYEl4oBK",
        "colab_type": "code",
        "colab": {}
      },
      "cell_type": "code",
      "source": [
        "import numpy as np\n",
        "import tensorflow as tf"
      ],
      "execution_count": 0,
      "outputs": []
    },
    {
      "metadata": {
        "id": "a3SuQrmu4xBt",
        "colab_type": "code",
        "colab": {}
      },
      "cell_type": "code",
      "source": [
        "np.random.seed(101)\n",
        "tf.set_random_seed(101)"
      ],
      "execution_count": 0,
      "outputs": []
    },
    {
      "metadata": {
        "id": "FMVACggh51Rw",
        "colab_type": "code",
        "outputId": "de698eb9-a2ff-46dc-a6a8-360806a672d6",
        "colab": {
          "base_uri": "https://localhost:8080/",
          "height": 109
        }
      },
      "cell_type": "code",
      "source": [
        "rand_a = np.random.uniform(0, 100, (5,5))\n",
        "rand_a"
      ],
      "execution_count": 0,
      "outputs": [
        {
          "output_type": "execute_result",
          "data": {
            "text/plain": [
              "array([[51.63986277, 57.06675869,  2.84742265, 17.15216562, 68.52769817],\n",
              "       [83.38968626, 30.69662197, 89.36130797, 72.15438618, 18.99389542],\n",
              "       [55.42275911, 35.2131954 , 18.18924027, 78.56017619, 96.54832224],\n",
              "       [23.23536618,  8.35614337, 60.35484223, 72.89927573, 27.62388285],\n",
              "       [68.53063288, 51.78674742,  4.84845374, 13.78692376, 18.69674261]])"
            ]
          },
          "metadata": {
            "tags": []
          },
          "execution_count": 3
        }
      ]
    },
    {
      "metadata": {
        "id": "4KL457l55yaO",
        "colab_type": "code",
        "outputId": "066aba60-226b-423d-f066-82b9012c41da",
        "colab": {
          "base_uri": "https://localhost:8080/",
          "height": 109
        }
      },
      "cell_type": "code",
      "source": [
        "rand_b = np.random.uniform(0, 100, (5,1))\n",
        "rand_b"
      ],
      "execution_count": 0,
      "outputs": [
        {
          "output_type": "execute_result",
          "data": {
            "text/plain": [
              "array([[99.43179012],\n",
              "       [52.06653967],\n",
              "       [57.87895355],\n",
              "       [73.48190583],\n",
              "       [54.19617722]])"
            ]
          },
          "metadata": {
            "tags": []
          },
          "execution_count": 4
        }
      ]
    },
    {
      "metadata": {
        "id": "6bkoBV-b5MFv",
        "colab_type": "code",
        "colab": {}
      },
      "cell_type": "code",
      "source": [
        "a = tf.placeholder(tf.float32)\n",
        "b = tf.placeholder(tf.float32)"
      ],
      "execution_count": 0,
      "outputs": []
    },
    {
      "metadata": {
        "id": "IL1TB5sr6VbR",
        "colab_type": "code",
        "colab": {}
      },
      "cell_type": "code",
      "source": [
        "#addition and multiplication\n",
        "#2 methods"
      ],
      "execution_count": 0,
      "outputs": []
    },
    {
      "metadata": {
        "id": "acvJXxyz6wZ2",
        "colab_type": "code",
        "colab": {}
      },
      "cell_type": "code",
      "source": [
        "add_op = a+b"
      ],
      "execution_count": 0,
      "outputs": []
    },
    {
      "metadata": {
        "id": "ebiBBQI_6x6W",
        "colab_type": "code",
        "colab": {}
      },
      "cell_type": "code",
      "source": [
        "mul_op = a * b"
      ],
      "execution_count": 0,
      "outputs": []
    },
    {
      "metadata": {
        "id": "_NXXFKRb60L_",
        "colab_type": "code",
        "colab": {}
      },
      "cell_type": "code",
      "source": [
        "with tf.Session() as sess:\n",
        "  add_result = sess.run(add_op, feed_dict = {a:rand_a, b:rand_b})\n",
        "  mul_result = sess.run(mul_op, feed_dict={a:rand_a, b:rand_b})"
      ],
      "execution_count": 0,
      "outputs": []
    },
    {
      "metadata": {
        "id": "VQLiJ6p666rc",
        "colab_type": "code",
        "outputId": "8d6739e5-0aad-42e1-b896-c775536ee8ed",
        "colab": {
          "base_uri": "https://localhost:8080/",
          "height": 237
        }
      },
      "cell_type": "code",
      "source": [
        "print(add_result)\n",
        "print('\\n')\n",
        "print(mul_result)"
      ],
      "execution_count": 0,
      "outputs": [
        {
          "output_type": "stream",
          "text": [
            "[[151.07166  156.49855  102.27921  116.58396  167.95949 ]\n",
            " [135.45622   82.76316  141.42784  124.22093   71.06043 ]\n",
            " [113.30171   93.09215   76.06819  136.43912  154.42728 ]\n",
            " [ 96.71727   81.83804  133.83675  146.38118  101.10579 ]\n",
            " [122.72681  105.982925  59.044632  67.9831    72.89292 ]]\n",
            "\n",
            "\n",
            "[[5134.644   5674.25     283.12433 1705.4707  6813.8315 ]\n",
            " [4341.8125  1598.267   4652.734   3756.8293   988.94635]\n",
            " [3207.8113  2038.1029  1052.7742  4546.9805  5588.1157 ]\n",
            " [1707.379    614.02527 4434.989   5356.7773  2029.8555 ]\n",
            " [3714.0984  2806.6438   262.76764  747.19855 1013.292  ]]\n"
          ],
          "name": "stdout"
        }
      ]
    },
    {
      "metadata": {
        "id": "9U6mDwEW8UdO",
        "colab_type": "code",
        "outputId": "62c665fa-1391-48a1-eca9-e5f8b497739a",
        "colab": {
          "base_uri": "https://localhost:8080/",
          "height": 109
        }
      },
      "cell_type": "code",
      "source": [
        ""
      ],
      "execution_count": 0,
      "outputs": [
        {
          "output_type": "stream",
          "text": [
            "[[5134.644   5674.25     283.12433 1705.4707  6813.8315 ]\n",
            " [4341.8125  1598.267   4652.734   3756.8293   988.94635]\n",
            " [3207.8113  2038.1029  1052.7742  4546.9805  5588.1157 ]\n",
            " [1707.379    614.02527 4434.989   5356.7773  2029.8555 ]\n",
            " [3714.0984  2806.6438   262.76764  747.19855 1013.292  ]]\n"
          ],
          "name": "stdout"
        }
      ]
    },
    {
      "metadata": {
        "id": "_jfpQBOH8XH4",
        "colab_type": "code",
        "colab": {}
      },
      "cell_type": "code",
      "source": [
        ""
      ],
      "execution_count": 0,
      "outputs": []
    }
  ]
}